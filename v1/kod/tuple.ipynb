{
 "cells": [
  {
   "metadata": {},
   "cell_type": "markdown",
   "source": "# Tuple",
   "id": "208e5b2245f2fcc5"
  },
  {
   "metadata": {},
   "cell_type": "markdown",
   "source": "## Inicijalizacija tuple",
   "id": "ea9d77fde8d93e42"
  },
  {
   "metadata": {
    "ExecuteTime": {
     "end_time": "2025-07-01T19:36:53.780752Z",
     "start_time": "2025-07-01T19:36:53.778014Z"
    }
   },
   "cell_type": "code",
   "source": [
    "koordinate = (4, 7)\n",
    "print(\"Tuple:\", koordinate)\n",
    "print(\"Tip:\", type(koordinate))"
   ],
   "id": "101c6fd9e046bf54",
   "outputs": [
    {
     "name": "stdout",
     "output_type": "stream",
     "text": [
      "Tuple: (4, 7)\n",
      "Tip: <class 'tuple'>\n"
     ]
    }
   ],
   "execution_count": 1
  },
  {
   "metadata": {
    "ExecuteTime": {
     "end_time": "2025-07-01T19:36:55.996087Z",
     "start_time": "2025-07-01T19:36:55.991077Z"
    }
   },
   "cell_type": "code",
   "source": [
    "prazan_tuple = ()\n",
    "print(\"Prazan tuple:\", prazan_tuple)"
   ],
   "id": "3328f6072a7edb50",
   "outputs": [
    {
     "name": "stdout",
     "output_type": "stream",
     "text": [
      "Prazan tuple: ()\n"
     ]
    }
   ],
   "execution_count": 2
  },
  {
   "metadata": {},
   "cell_type": "markdown",
   "source": "## Pristup i sečenje",
   "id": "94bf826a1050f4c2"
  },
  {
   "metadata": {
    "ExecuteTime": {
     "end_time": "2025-07-01T19:37:55.219633Z",
     "start_time": "2025-07-01T19:37:55.214917Z"
    }
   },
   "cell_type": "code",
   "source": [
    "print(\"Prvi element:\", koordinate[0])\n",
    "print(\"Poslednji element:\", koordinate[-1])\n",
    "print(\"Prva dva:\", koordinate[0:2])\n",
    "print(\"Obrnuti redosled:\", koordinate[::-1])"
   ],
   "id": "c6a813fcbd4aea30",
   "outputs": [
    {
     "name": "stdout",
     "output_type": "stream",
     "text": [
      "Prvi element: 4\n",
      "Poslednji element: 7\n",
      "Prva dva: (4, 7)\n",
      "Obrnuti redosled: (7, 4)\n"
     ]
    }
   ],
   "execution_count": 3
  },
  {
   "metadata": {},
   "cell_type": "markdown",
   "source": "## Korisne funkcije",
   "id": "ac634eb2e3f68e5d"
  },
  {
   "metadata": {
    "ExecuteTime": {
     "end_time": "2025-07-01T19:38:06.784966Z",
     "start_time": "2025-07-01T19:38:06.781794Z"
    }
   },
   "cell_type": "code",
   "source": [
    "print(\"Broj elemenata:\", len(koordinate))\n",
    "print(\"Najmanji element:\", min(koordinate))\n",
    "print(\"Najveći element:\", max(koordinate))"
   ],
   "id": "6d3fb6396a99b4fe",
   "outputs": [
    {
     "name": "stdout",
     "output_type": "stream",
     "text": [
      "Broj elemenata: 2\n",
      "Najmanji element: 4\n",
      "Najveći element: 7\n"
     ]
    }
   ],
   "execution_count": 4
  },
  {
   "metadata": {},
   "cell_type": "markdown",
   "source": "## Iteracija i primene",
   "id": "b00dd99426020e53"
  },
  {
   "metadata": {
    "ExecuteTime": {
     "end_time": "2025-07-01T19:38:15.800022Z",
     "start_time": "2025-07-01T19:38:15.796230Z"
    }
   },
   "cell_type": "code",
   "source": [
    "for x in koordinate:\n",
    "    print(\"Element:\", x)"
   ],
   "id": "c2fb3c1ba0a54d01",
   "outputs": [
    {
     "name": "stdout",
     "output_type": "stream",
     "text": [
      "Element: 4\n",
      "Element: 7\n"
     ]
    }
   ],
   "execution_count": 5
  },
  {
   "metadata": {
    "ExecuteTime": {
     "end_time": "2025-07-01T19:38:19.670325Z",
     "start_time": "2025-07-01T19:38:19.666628Z"
    }
   },
   "cell_type": "code",
   "source": [
    "for i in range(len(koordinate)):\n",
    "    print(\"Indeks:\", i, \"Vrednost:\", koordinate[i])"
   ],
   "id": "2e798103b765da35",
   "outputs": [
    {
     "name": "stdout",
     "output_type": "stream",
     "text": [
      "Indeks: 0 Vrednost: 4\n",
      "Indeks: 1 Vrednost: 7\n"
     ]
    }
   ],
   "execution_count": 6
  },
  {
   "metadata": {
    "ExecuteTime": {
     "end_time": "2025-07-01T19:38:22.152183Z",
     "start_time": "2025-07-01T19:38:22.147757Z"
    }
   },
   "cell_type": "code",
   "source": [
    "def vrati_par():\n",
    "    return (1, 2)"
   ],
   "id": "55520ed873eec7d8",
   "outputs": [],
   "execution_count": 7
  },
  {
   "metadata": {
    "ExecuteTime": {
     "end_time": "2025-07-01T19:38:23.761502Z",
     "start_time": "2025-07-01T19:38:23.756918Z"
    }
   },
   "cell_type": "code",
   "source": "print(\"Tuple iz funkcije:\", vrati_par())",
   "id": "7afe1244c751d844",
   "outputs": [
    {
     "name": "stdout",
     "output_type": "stream",
     "text": [
      "Tuple iz funkcije: (1, 2)\n"
     ]
    }
   ],
   "execution_count": 8
  },
  {
   "metadata": {},
   "cell_type": "markdown",
   "source": "## Pretvaranje i česte greške",
   "id": "87e637bdafd389e7"
  },
  {
   "metadata": {
    "ExecuteTime": {
     "end_time": "2025-07-01T19:38:25.993684Z",
     "start_time": "2025-07-01T19:38:25.989426Z"
    }
   },
   "cell_type": "code",
   "source": [
    "lista = [1, 2, 3]\n",
    "t = tuple(lista)\n",
    "print(\"Lista u tuple:\", t)"
   ],
   "id": "4879f109b01aaa2e",
   "outputs": [
    {
     "name": "stdout",
     "output_type": "stream",
     "text": [
      "Lista u tuple: (1, 2, 3)\n"
     ]
    }
   ],
   "execution_count": 9
  },
  {
   "metadata": {
    "ExecuteTime": {
     "end_time": "2025-07-01T19:38:32.001902Z",
     "start_time": "2025-07-01T19:38:31.997398Z"
    }
   },
   "cell_type": "code",
   "source": [
    "t2 = (1, 2, 3)\n",
    "l = list(t2)\n",
    "print(\"Tuple u listu:\", l)"
   ],
   "id": "833a08e223a2c1d",
   "outputs": [
    {
     "name": "stdout",
     "output_type": "stream",
     "text": [
      "Tuple u listu: [1, 2, 3]\n"
     ]
    }
   ],
   "execution_count": 10
  },
  {
   "metadata": {
    "ExecuteTime": {
     "end_time": "2025-07-01T19:38:34.289841Z",
     "start_time": "2025-07-01T19:38:34.286221Z"
    }
   },
   "cell_type": "code",
   "source": [
    "try:\n",
    "    t2[0] = 10\n",
    "except TypeError as e:\n",
    "    print(\"Greška:\", e)"
   ],
   "id": "d04d752ba7383af5",
   "outputs": [
    {
     "name": "stdout",
     "output_type": "stream",
     "text": [
      "Greška: 'tuple' object does not support item assignment\n"
     ]
    }
   ],
   "execution_count": 11
  }
 ],
 "metadata": {
  "kernelspec": {
   "display_name": "Python 3",
   "language": "python",
   "name": "python3"
  },
  "language_info": {
   "codemirror_mode": {
    "name": "ipython",
    "version": 2
   },
   "file_extension": ".py",
   "mimetype": "text/x-python",
   "name": "python",
   "nbconvert_exporter": "python",
   "pygments_lexer": "ipython2",
   "version": "2.7.6"
  }
 },
 "nbformat": 4,
 "nbformat_minor": 5
}
