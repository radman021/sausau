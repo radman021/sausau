{
 "cells": [
  {
   "metadata": {},
   "cell_type": "markdown",
   "source": "# Dict",
   "id": "7bb059dd13b13ad6"
  },
  {
   "metadata": {},
   "cell_type": "markdown",
   "source": "## Inicijalizacija i osnovna svojstva",
   "id": "a2793d900c69275"
  },
  {
   "cell_type": "code",
   "id": "initial_id",
   "metadata": {
    "collapsed": true,
    "ExecuteTime": {
     "end_time": "2025-07-01T19:41:09.988002Z",
     "start_time": "2025-07-01T19:41:09.985703Z"
    }
   },
   "source": [
    "# Kreiranje rečnika\n",
    "osoba = {\n",
    "    \"ime\": \"Ana\",\n",
    "    \"godine\": 25,\n",
    "    \"student\": True\n",
    "}\n",
    "\n",
    "print(\"Rečnik osoba:\", osoba)\n",
    "print(\"Tip:\", type(osoba))"
   ],
   "outputs": [
    {
     "name": "stdout",
     "output_type": "stream",
     "text": [
      "Rečnik osoba: {'ime': 'Ana', 'godine': 25, 'student': True}\n",
      "Tip: <class 'dict'>\n"
     ]
    }
   ],
   "execution_count": 1
  },
  {
   "metadata": {},
   "cell_type": "markdown",
   "source": "## Dodavanje i ažuriranje",
   "id": "2916d2a882ed74ec"
  },
  {
   "metadata": {
    "ExecuteTime": {
     "end_time": "2025-07-01T19:41:14.037015Z",
     "start_time": "2025-07-01T19:41:14.034564Z"
    }
   },
   "cell_type": "code",
   "source": [
    "# Dodavanje novog ključa\n",
    "osoba[\"prezime\"] = \"Petrović\"\n",
    "\n",
    "# Ažuriranje postojeće vrednosti\n",
    "osoba[\"godine\"] = 26\n",
    "\n",
    "print(\"Ažurirani rečnik:\", osoba)"
   ],
   "id": "489058581fd1fc77",
   "outputs": [
    {
     "name": "stdout",
     "output_type": "stream",
     "text": [
      "Ažurirani rečnik: {'ime': 'Ana', 'godine': 26, 'student': True, 'prezime': 'Petrović'}\n"
     ]
    }
   ],
   "execution_count": 2
  },
  {
   "metadata": {},
   "cell_type": "markdown",
   "source": "## Brisanje elemenata",
   "id": "73eba3f2873abb46"
  },
  {
   "metadata": {
    "ExecuteTime": {
     "end_time": "2025-07-01T19:41:25.679854Z",
     "start_time": "2025-07-01T19:41:25.676041Z"
    }
   },
   "cell_type": "code",
   "source": [
    "# Brisanje pomoću del\n",
    "del osoba[\"student\"]\n",
    "\n",
    "# Brisanje i vraćanje vrednosti\n",
    "godine = osoba.pop(\"godine\")\n",
    "print(\"Izbačeno 'godine':\", godine)\n",
    "\n",
    "print(\"Rečnik nakon brisanja:\", osoba)"
   ],
   "id": "eef424e460ea754f",
   "outputs": [
    {
     "name": "stdout",
     "output_type": "stream",
     "text": [
      "Izbačeno 'godine': 26\n",
      "Rečnik nakon brisanja: {'ime': 'Ana', 'prezime': 'Petrović'}\n"
     ]
    }
   ],
   "execution_count": 3
  },
  {
   "metadata": {},
   "cell_type": "markdown",
   "source": "## Pristup vrednostima",
   "id": "561e9a296a84692d"
  },
  {
   "metadata": {
    "ExecuteTime": {
     "end_time": "2025-07-01T19:42:11.730064Z",
     "start_time": "2025-07-01T19:42:11.725952Z"
    }
   },
   "cell_type": "code",
   "source": [
    "# Direktan pristup\n",
    "print(\"Ime:\", osoba[\"ime\"])\n",
    "\n",
    "# Bezbedan pristup\n",
    "print(\"Visina:\", osoba.get(\"visina\"))  # None jer ne postoji"
   ],
   "id": "a640b69a687117e4",
   "outputs": [
    {
     "name": "stdout",
     "output_type": "stream",
     "text": [
      "Ime: Ana\n",
      "Visina: None\n"
     ]
    }
   ],
   "execution_count": 4
  },
  {
   "metadata": {},
   "cell_type": "markdown",
   "source": "## Pregled sadržaja",
   "id": "90ebc7218b080cdc"
  },
  {
   "metadata": {
    "ExecuteTime": {
     "end_time": "2025-07-01T19:42:19.530299Z",
     "start_time": "2025-07-01T19:42:19.526446Z"
    }
   },
   "cell_type": "code",
   "source": [
    "print(\"Ključevi:\", osoba.keys())\n",
    "print(\"Vrednosti:\", osoba.values())\n",
    "print(\"Parovi:\", osoba.items())"
   ],
   "id": "dcfd468b67d7b734",
   "outputs": [
    {
     "name": "stdout",
     "output_type": "stream",
     "text": [
      "Ključevi: dict_keys(['ime', 'prezime'])\n",
      "Vrednosti: dict_values(['Ana', 'Petrović'])\n",
      "Parovi: dict_items([('ime', 'Ana'), ('prezime', 'Petrović')])\n"
     ]
    }
   ],
   "execution_count": 5
  },
  {
   "metadata": {},
   "cell_type": "markdown",
   "source": "## Iteracija kroz rečnik",
   "id": "6ebbfaa3837d1a6a"
  },
  {
   "metadata": {
    "ExecuteTime": {
     "end_time": "2025-07-01T19:42:27.978582Z",
     "start_time": "2025-07-01T19:42:27.974804Z"
    }
   },
   "cell_type": "code",
   "source": [
    "# Kroz ključeve\n",
    "for kljuc in osoba:\n",
    "    print(\"Kljuc:\", kljuc)\n",
    "\n",
    "# Kroz vrednosti\n",
    "for vrednost in osoba.values():\n",
    "    print(\"Vrednost:\", vrednost)\n",
    "\n",
    "# Kroz parove\n",
    "for kljuc, vrednost in osoba.items():\n",
    "    print(f\"{kljuc}: {vrednost}\")"
   ],
   "id": "a2132237a3de3e51",
   "outputs": [
    {
     "name": "stdout",
     "output_type": "stream",
     "text": [
      "Kljuc: ime\n",
      "Kljuc: prezime\n",
      "Vrednost: Ana\n",
      "Vrednost: Petrović\n",
      "ime: Ana\n",
      "prezime: Petrović\n"
     ]
    }
   ],
   "execution_count": 6
  },
  {
   "metadata": {},
   "cell_type": "markdown",
   "source": "## Ostale korisne metode",
   "id": "22b885f20fa61b8b"
  },
  {
   "metadata": {
    "ExecuteTime": {
     "end_time": "2025-07-01T19:42:40.620783Z",
     "start_time": "2025-07-01T19:42:40.617615Z"
    }
   },
   "cell_type": "code",
   "source": [
    "# Dodavanje više vrednosti\n",
    "osoba.update({\"država\": \"Srbija\", \"ime\": \"Ana\"})\n",
    "\n",
    "# Provera da li ključ postoji\n",
    "print(\"Da li postoji ključ 'ime'? -\", \"ime\" in osoba)"
   ],
   "id": "b9336a874cc27128",
   "outputs": [
    {
     "name": "stdout",
     "output_type": "stream",
     "text": [
      "Da li postoji ključ 'ime'? - True\n"
     ]
    }
   ],
   "execution_count": 7
  },
  {
   "metadata": {},
   "cell_type": "markdown",
   "source": "## Česte greške i saveti",
   "id": "2b965880e1b02047"
  },
  {
   "metadata": {
    "ExecuteTime": {
     "end_time": "2025-07-01T19:42:57.045258Z",
     "start_time": "2025-07-01T19:42:57.039629Z"
    }
   },
   "cell_type": "code",
   "source": [
    "# Greška: pristupanje nepostojećem ključu bez provere\n",
    "try:\n",
    "    print(osoba[\"visina\"])\n",
    "except KeyError as e:\n",
    "    print(\"Greška:\", e)\n",
    "\n",
    "# Greška: promenljiva struktura kao ključ\n",
    "try:\n",
    "    los_kljuc = [1, 2]\n",
    "    test = {los_kljuc: \"ne valja\"}\n",
    "except TypeError as e:\n",
    "    print(\"Greška:\", e)\n",
    "\n",
    "# Savet: koristi .get()\n",
    "print(\"Visina (get):\", osoba.get(\"visina\", \"Nije uneto\"))\n",
    "\n",
    "# Savet: koristi .items()\n",
    "for k, v in osoba.items():\n",
    "    print(f\"{k} => {v}\")"
   ],
   "id": "fc24adbdae631783",
   "outputs": [
    {
     "name": "stdout",
     "output_type": "stream",
     "text": [
      "Greška: 'visina'\n",
      "Greška: unhashable type: 'list'\n",
      "Visina (get): Nije uneto\n",
      "ime => Ana\n",
      "prezime => Petrović\n",
      "država => Srbija\n"
     ]
    }
   ],
   "execution_count": 8
  },
  {
   "metadata": {},
   "cell_type": "markdown",
   "source": "## Tipične primene",
   "id": "8af3a3d7d690c6b"
  },
  {
   "metadata": {
    "ExecuteTime": {
     "end_time": "2025-07-01T19:43:21.249218Z",
     "start_time": "2025-07-01T19:43:21.245753Z"
    }
   },
   "cell_type": "code",
   "source": [
    "# Brojanje pojavljivanja\n",
    "brojevi = [1, 2, 1, 3, 2, 1]\n",
    "brojanja = {}\n",
    "for x in brojevi:\n",
    "    brojanja[x] = brojanja.get(x, 0) + 1\n",
    "print(\"Brojanja:\", brojanja)\n",
    "\n",
    "# Primer mapiranja ID -> vrednost\n",
    "mapa_id = {100: \"Ana\", 101: \"Marko\"}\n",
    "print(\"Ime za ID 101:\", mapa_id.get(101))"
   ],
   "id": "22b5625c8680040b",
   "outputs": [
    {
     "name": "stdout",
     "output_type": "stream",
     "text": [
      "Brojanja: {1: 3, 2: 2, 3: 1}\n",
      "Ime za ID 101: Marko\n"
     ]
    }
   ],
   "execution_count": 9
  }
 ],
 "metadata": {
  "kernelspec": {
   "display_name": "Python 3",
   "language": "python",
   "name": "python3"
  },
  "language_info": {
   "codemirror_mode": {
    "name": "ipython",
    "version": 2
   },
   "file_extension": ".py",
   "mimetype": "text/x-python",
   "name": "python",
   "nbconvert_exporter": "python",
   "pygments_lexer": "ipython2",
   "version": "2.7.6"
  }
 },
 "nbformat": 4,
 "nbformat_minor": 5
}
