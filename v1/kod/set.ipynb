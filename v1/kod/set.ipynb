{
 "cells": [
  {
   "metadata": {},
   "cell_type": "markdown",
   "source": "# Set",
   "id": "5cbcb9929d869cc0"
  },
  {
   "metadata": {},
   "cell_type": "markdown",
   "source": "## Inicijalizacija seta",
   "id": "75a0f3aaa320467b"
  },
  {
   "cell_type": "code",
   "id": "initial_id",
   "metadata": {
    "collapsed": true,
    "ExecuteTime": {
     "end_time": "2025-07-01T19:29:12.835022Z",
     "start_time": "2025-07-01T19:29:12.831646Z"
    }
   },
   "source": [
    "# Kreiranje seta\n",
    "moj_set = {1, 2, 3}\n",
    "print(\"Set:\", moj_set)\n",
    "\n",
    "# Prazan set (mora set(), {} pravi dict)\n",
    "prazan_set = set()\n",
    "print(\"Prazan set:\", prazan_set)"
   ],
   "outputs": [
    {
     "name": "stdout",
     "output_type": "stream",
     "text": [
      "Set: {1, 2, 3}\n",
      "Prazan set: set()\n"
     ]
    }
   ],
   "execution_count": 4
  },
  {
   "metadata": {},
   "cell_type": "markdown",
   "source": "## Duplikati i redosled",
   "id": "197b0fc0cdbd8364"
  },
  {
   "metadata": {
    "ExecuteTime": {
     "end_time": "2025-07-01T19:30:15.146736Z",
     "start_time": "2025-07-01T19:30:15.143273Z"
    }
   },
   "cell_type": "code",
   "source": [
    "duplikati = {1, 2, 2, 3}\n",
    "print(\"Bez duplikata:\", duplikati)  # duplikati se automatski uklanjaju\n",
    "\n",
    "neuredjen_set = {5, 2, 9, 1}\n",
    "print(\"Redosled nije garantovan:\", neuredjen_set)"
   ],
   "id": "4b1b4cb557d737a",
   "outputs": [
    {
     "name": "stdout",
     "output_type": "stream",
     "text": [
      "Bez duplikata: {1, 2, 3}\n",
      "Redosled nije garantovan: {9, 2, 5, 1}\n"
     ]
    }
   ],
   "execution_count": 9
  },
  {
   "metadata": {},
   "cell_type": "markdown",
   "source": "## Provera postojanja",
   "id": "6006f1d147ca921f"
  },
  {
   "metadata": {
    "ExecuteTime": {
     "end_time": "2025-07-01T19:30:17.917136Z",
     "start_time": "2025-07-01T19:30:17.914180Z"
    }
   },
   "cell_type": "code",
   "source": [
    "skup = {10, 20, 30}\n",
    "print(20 in skup)   # True\n",
    "print(50 in skup)   # False"
   ],
   "id": "7b0d7c297e00b77b",
   "outputs": [
    {
     "name": "stdout",
     "output_type": "stream",
     "text": [
      "True\n",
      "False\n"
     ]
    }
   ],
   "execution_count": 10
  },
  {
   "metadata": {},
   "cell_type": "markdown",
   "source": "## Dodavanje i uklanjanje",
   "id": "5e549f54b2d3be2f"
  },
  {
   "metadata": {
    "ExecuteTime": {
     "end_time": "2025-07-01T19:30:25.790026Z",
     "start_time": "2025-07-01T19:30:25.786343Z"
    }
   },
   "cell_type": "code",
   "source": [
    "skup = {1, 2, 3}\n",
    "skup.add(4)\n",
    "print(\"Nakon add:\", skup)\n",
    "\n",
    "skup.update([5, 6])\n",
    "print(\"Nakon update:\", skup)\n",
    "\n",
    "skup.remove(2)\n",
    "print(\"Nakon remove:\", skup)\n",
    "\n",
    "# discard ne baca grešku ako element ne postoji\n",
    "skup.discard(10)\n",
    "print(\"Nakon discard:\", skup)\n",
    "\n",
    "skup.clear()\n",
    "print(\"Prazan skup:\", skup)"
   ],
   "id": "6843e3119bc7894a",
   "outputs": [
    {
     "name": "stdout",
     "output_type": "stream",
     "text": [
      "Nakon add: {1, 2, 3, 4}\n",
      "Nakon update: {1, 2, 3, 4, 5, 6}\n",
      "Nakon remove: {1, 3, 4, 5, 6}\n",
      "Nakon discard: {1, 3, 4, 5, 6}\n",
      "Prazan skup: set()\n"
     ]
    }
   ],
   "execution_count": 11
  },
  {
   "metadata": {},
   "cell_type": "markdown",
   "source": "## Iteracija",
   "id": "4f34864902184d5"
  },
  {
   "metadata": {
    "ExecuteTime": {
     "end_time": "2025-07-01T19:30:48.630652Z",
     "start_time": "2025-07-01T19:30:48.625775Z"
    }
   },
   "cell_type": "code",
   "source": [
    "skup = {\"a\", \"b\", \"c\"}\n",
    "for el in skup:\n",
    "    print(\"Element:\", el)"
   ],
   "id": "a3f9b4387d76ed93",
   "outputs": [
    {
     "name": "stdout",
     "output_type": "stream",
     "text": [
      "Element: a\n",
      "Element: c\n",
      "Element: b\n"
     ]
    }
   ],
   "execution_count": 12
  },
  {
   "metadata": {},
   "cell_type": "markdown",
   "source": "## Tipične primene",
   "id": "fe0a1511a52ea783"
  },
  {
   "metadata": {
    "ExecuteTime": {
     "end_time": "2025-07-01T19:30:52.021432Z",
     "start_time": "2025-07-01T19:30:52.017438Z"
    }
   },
   "cell_type": "code",
   "source": [
    "# Uklanjanje duplikata iz liste\n",
    "lista = [1, 2, 2, 3]\n",
    "bez_duplikata = set(lista)\n",
    "print(\"Bez duplikata:\", bez_duplikata)"
   ],
   "id": "d99d9c601234900b",
   "outputs": [
    {
     "name": "stdout",
     "output_type": "stream",
     "text": [
      "Bez duplikata: {1, 2, 3}\n"
     ]
    }
   ],
   "execution_count": 13
  },
  {
   "metadata": {},
   "cell_type": "markdown",
   "source": "## Skupovske operacije",
   "id": "4c91f2ac62c835d4"
  },
  {
   "metadata": {
    "ExecuteTime": {
     "end_time": "2025-07-01T19:30:56.594564Z",
     "start_time": "2025-07-01T19:30:56.589531Z"
    }
   },
   "cell_type": "code",
   "source": [
    "a = {1, 2, 3}\n",
    "b = {3, 4, 5}\n",
    "\n",
    "print(\"Unija:\", a | b)\n",
    "print(\"Presek:\", a & b)\n",
    "print(\"Razlika (a - b):\", a - b)\n",
    "print(\"Simetrična razlika:\", a ^ b)"
   ],
   "id": "5ede8e5bd24eb315",
   "outputs": [
    {
     "name": "stdout",
     "output_type": "stream",
     "text": [
      "Unija: {1, 2, 3, 4, 5}\n",
      "Presek: {3}\n",
      "Razlika (a - b): {1, 2}\n",
      "Simetrična razlika: {1, 2, 4, 5}\n"
     ]
    }
   ],
   "execution_count": 14
  },
  {
   "metadata": {},
   "cell_type": "markdown",
   "source": "## Česte greške",
   "id": "e1af5ae419196de7"
  },
  {
   "metadata": {
    "ExecuteTime": {
     "end_time": "2025-07-01T19:32:36.049451Z",
     "start_time": "2025-07-01T19:32:36.046868Z"
    }
   },
   "cell_type": "code",
   "source": [
    "skup = {1, 2, 3}\n",
    "\n",
    "# remove baca grešku ako ne postoji\n",
    "# skup.remove(10)  # Greška!\n",
    "\n",
    "# discard ne baca grešku\n",
    "skup.discard(10)"
   ],
   "id": "121e1fbf9a66079a",
   "outputs": [],
   "execution_count": 17
  }
 ],
 "metadata": {
  "kernelspec": {
   "display_name": "Python 3",
   "language": "python",
   "name": "python3"
  },
  "language_info": {
   "codemirror_mode": {
    "name": "ipython",
    "version": 2
   },
   "file_extension": ".py",
   "mimetype": "text/x-python",
   "name": "python",
   "nbconvert_exporter": "python",
   "pygments_lexer": "ipython2",
   "version": "2.7.6"
  }
 },
 "nbformat": 4,
 "nbformat_minor": 5
}
