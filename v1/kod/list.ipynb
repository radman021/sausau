{
 "cells": [
  {
   "metadata": {},
   "cell_type": "markdown",
   "source": "# List",
   "id": "ae5c5474cb57d2ca"
  },
  {
   "metadata": {},
   "cell_type": "markdown",
   "source": "## Primer liste i osnovne osobine",
   "id": "fc7da4c385393cd5"
  },
  {
   "metadata": {
    "ExecuteTime": {
     "end_time": "2025-07-01T19:20:06.865423Z",
     "start_time": "2025-07-01T19:20:06.860460Z"
    }
   },
   "cell_type": "code",
   "source": [
    "niz = [4, 7, 1, 9]\n",
    "print(\"Lista:\", niz)\n",
    "print(\"Tip:\", type(niz))\n",
    "print(\"Prvi element:\", niz[0])\n",
    "print(\"Poslednji element:\", niz[-1])\n",
    "print(\"Duplikati su dozvoljeni:\", [1, 1, 2])\n",
    "print(\"Ugnježdene liste:\", [1, [2, 3]])"
   ],
   "id": "a2587b0cb25b50a3",
   "outputs": [
    {
     "name": "stdout",
     "output_type": "stream",
     "text": [
      "Lista: [4, 7, 1, 9]\n",
      "Tip: <class 'list'>\n",
      "Prvi element: 4\n",
      "Poslednji element: 9\n",
      "Duplikati su dozvoljeni: [1, 1, 2]\n",
      "Ugnježdene liste: [1, [2, 3]]\n"
     ]
    }
   ],
   "execution_count": 9
  },
  {
   "metadata": {},
   "cell_type": "markdown",
   "source": "## Pristup i izmena",
   "id": "75b95d077655b034"
  },
  {
   "metadata": {
    "ExecuteTime": {
     "end_time": "2025-07-01T19:20:15.751274Z",
     "start_time": "2025-07-01T19:20:15.748891Z"
    }
   },
   "cell_type": "code",
   "source": [
    "print(\"Element na indeksu 2:\", niz[2])\n",
    "niz[2] = 10\n",
    "print(\"Izmenjena lista:\", niz)"
   ],
   "id": "4ebc3cc6a16f11e1",
   "outputs": [
    {
     "name": "stdout",
     "output_type": "stream",
     "text": [
      "Element na indeksu 2: 1\n",
      "Izmenjena lista: [4, 7, 10, 9]\n"
     ]
    }
   ],
   "execution_count": 10
  },
  {
   "metadata": {},
   "cell_type": "markdown",
   "source": "g## Dodavanje i uklanjanje elemenata",
   "id": "55bef8f13d4bc97c"
  },
  {
   "metadata": {
    "ExecuteTime": {
     "end_time": "2025-07-01T19:20:25.171163Z",
     "start_time": "2025-07-01T19:20:25.168367Z"
    }
   },
   "cell_type": "code",
   "source": [
    "niz.append(5)\n",
    "print(\"Dodajemo 5:\", niz)\n",
    "niz.insert(1, 6)\n",
    "print(\"Ubacujemo 6 na poziciju 1:\", niz)\n",
    "niz.extend([7, 8])\n",
    "print(\"Dodajemo više elemenata:\", niz)"
   ],
   "id": "73205fbf3aa8fa07",
   "outputs": [
    {
     "name": "stdout",
     "output_type": "stream",
     "text": [
      "Dodajemo 5: [4, 7, 10, 9, 5]\n",
      "Ubacujemo 6 na poziciju 1: [4, 6, 7, 10, 9, 5]\n",
      "Dodajemo više elemenata: [4, 6, 7, 10, 9, 5, 7, 8]\n"
     ]
    }
   ],
   "execution_count": 11
  },
  {
   "metadata": {
    "ExecuteTime": {
     "end_time": "2025-07-01T19:21:47.277589Z",
     "start_time": "2025-07-01T19:21:47.272736Z"
    }
   },
   "cell_type": "code",
   "source": [
    "niz.pop()\n",
    "print(\"Uklanjamo poslednji element:\", niz)\n",
    "niz.remove(6)\n",
    "print(\"Uklanjamo vrednost 6:\", niz)\n",
    "del niz[1]\n",
    "print(\"Brišemo element na poziciji 1:\", niz)"
   ],
   "id": "c94aa7ff704d2b6d",
   "outputs": [
    {
     "name": "stdout",
     "output_type": "stream",
     "text": [
      "Uklanjamo poslednji element: [4, 6, 7, 10, 9, 5, 7]\n",
      "Uklanjamo vrednost 6: [4, 7, 10, 9, 5, 7]\n",
      "Brišemo element na poziciji 1: [4, 10, 9, 5, 7]\n"
     ]
    }
   ],
   "execution_count": 20
  },
  {
   "metadata": {},
   "cell_type": "markdown",
   "source": "## Slicing",
   "id": "76801f205297f56"
  },
  {
   "metadata": {
    "ExecuteTime": {
     "end_time": "2025-07-01T19:22:04.996149Z",
     "start_time": "2025-07-01T19:22:04.991276Z"
    }
   },
   "cell_type": "code",
   "source": [
    "print(\"Prva dva elementa:\", niz[:2])\n",
    "print(\"Svaki drugi element:\", niz[::2])\n",
    "print(\"Obrnuta lista:\", niz[::-1])"
   ],
   "id": "56aba4c914465a2",
   "outputs": [
    {
     "name": "stdout",
     "output_type": "stream",
     "text": [
      "Prva dva elementa: [4, 10]\n",
      "Svaki drugi element: [4, 9, 7]\n",
      "Obrnuta lista: [7, 5, 9, 10, 4]\n"
     ]
    }
   ],
   "execution_count": 21
  },
  {
   "metadata": {},
   "cell_type": "markdown",
   "source": "## Korisne funckije",
   "id": "603cac1d2bd4b019"
  },
  {
   "metadata": {
    "ExecuteTime": {
     "end_time": "2025-07-01T19:22:18.224603Z",
     "start_time": "2025-07-01T19:22:18.221039Z"
    }
   },
   "cell_type": "code",
   "source": [
    "print(\"Dužina:\", len(niz))\n",
    "print(\"Najmanji:\", min(niz), \"Najveći:\", max(niz))\n",
    "print(\"Zbir:\", sum(niz))\n",
    "print(\"Broj pojavljivanja broja 4:\", niz.count(4))"
   ],
   "id": "d1c1fa540111a810",
   "outputs": [
    {
     "name": "stdout",
     "output_type": "stream",
     "text": [
      "Dužina: 5\n",
      "Najmanji: 4 Najveći: 10\n",
      "Zbir: 35\n",
      "Broj pojavljivanja broja 4: 1\n"
     ]
    }
   ],
   "execution_count": 22
  },
  {
   "metadata": {},
   "cell_type": "markdown",
   "source": "## Iteracija",
   "id": "641935cbdf75b13"
  },
  {
   "metadata": {
    "ExecuteTime": {
     "end_time": "2025-07-01T19:22:25.464390Z",
     "start_time": "2025-07-01T19:22:25.461548Z"
    }
   },
   "cell_type": "code",
   "source": [
    "print(\"Pristup elementima direktno:\")\n",
    "for x in niz:\n",
    "    print(x)"
   ],
   "id": "a0b7d672cc2c428a",
   "outputs": [
    {
     "name": "stdout",
     "output_type": "stream",
     "text": [
      "Pristup elementima direktno:\n",
      "4\n",
      "10\n",
      "9\n",
      "5\n",
      "7\n"
     ]
    }
   ],
   "execution_count": 23
  },
  {
   "metadata": {
    "ExecuteTime": {
     "end_time": "2025-07-01T19:22:34.326648Z",
     "start_time": "2025-07-01T19:22:34.323139Z"
    }
   },
   "cell_type": "code",
   "source": [
    "print(\"Pristup sa indeksom:\")\n",
    "for i in range(len(niz)):\n",
    "    print(f\"Indeks {i}: vrednost {niz[i]}\")"
   ],
   "id": "65bad39c20249778",
   "outputs": [
    {
     "name": "stdout",
     "output_type": "stream",
     "text": [
      "Pristup sa indeksom:\n",
      "Indeks 0: vrednost 4\n",
      "Indeks 1: vrednost 10\n",
      "Indeks 2: vrednost 9\n",
      "Indeks 3: vrednost 5\n",
      "Indeks 4: vrednost 7\n"
     ]
    }
   ],
   "execution_count": 25
  },
  {
   "metadata": {},
   "cell_type": "markdown",
   "source": "## Tipicne primene",
   "id": "6a82168cc270f49f"
  },
  {
   "metadata": {
    "ExecuteTime": {
     "end_time": "2025-07-01T19:22:37.643716Z",
     "start_time": "2025-07-01T19:22:37.638410Z"
    }
   },
   "cell_type": "code",
   "source": [
    "print(\"Maksimum:\", max(niz))\n",
    "print(\"Građenje DP tabele:\")\n",
    "n = 5\n",
    "dp = [0] * (n + 1)\n",
    "print(dp)"
   ],
   "id": "aaa80d3440a32c27",
   "outputs": [
    {
     "name": "stdout",
     "output_type": "stream",
     "text": [
      "Maksimum: 10\n",
      "Građenje DP tabele:\n",
      "[0, 0, 0, 0, 0, 0]\n"
     ]
    }
   ],
   "execution_count": 26
  },
  {
   "metadata": {},
   "cell_type": "markdown",
   "source": "## Greske i saveti",
   "id": "2e27ff38864b8c70"
  },
  {
   "metadata": {
    "ExecuteTime": {
     "end_time": "2025-07-01T19:22:40.500882Z",
     "start_time": "2025-07-01T19:22:40.497739Z"
    }
   },
   "cell_type": "code",
   "source": [
    "try:\n",
    "    print(niz[100])  # IndexError\n",
    "except IndexError as e:\n",
    "    print(\"Greška:\", e)"
   ],
   "id": "1b00a0eee972d46",
   "outputs": [
    {
     "name": "stdout",
     "output_type": "stream",
     "text": [
      "Greška: list index out of range\n"
     ]
    }
   ],
   "execution_count": 27
  },
  {
   "metadata": {
    "ExecuteTime": {
     "end_time": "2025-07-01T19:22:44.699621Z",
     "start_time": "2025-07-01T19:22:44.695536Z"
    }
   },
   "cell_type": "code",
   "source": [
    "niz_kopija = niz.copy()\n",
    "print(\"Kopirana lista:\", niz_kopija)"
   ],
   "id": "6df51b4be8fce268",
   "outputs": [
    {
     "name": "stdout",
     "output_type": "stream",
     "text": [
      "Kopirana lista: [4, 10, 9, 5, 7]\n"
     ]
    }
   ],
   "execution_count": 28
  },
  {
   "metadata": {
    "ExecuteTime": {
     "end_time": "2025-07-01T19:22:46.544072Z",
     "start_time": "2025-07-01T19:22:46.541272Z"
    }
   },
   "cell_type": "code",
   "source": [
    "niz_fiksna = [0] * 10\n",
    "print(\"Fiksna dužina:\", niz_fiksna)"
   ],
   "id": "9d39ba723ccaacdc",
   "outputs": [
    {
     "name": "stdout",
     "output_type": "stream",
     "text": [
      "Fiksna dužina: [0, 0, 0, 0, 0, 0, 0, 0, 0, 0]\n"
     ]
    }
   ],
   "execution_count": 29
  }
 ],
 "metadata": {
  "kernelspec": {
   "display_name": "Python 3",
   "language": "python",
   "name": "python3"
  },
  "language_info": {
   "codemirror_mode": {
    "name": "ipython",
    "version": 2
   },
   "file_extension": ".py",
   "mimetype": "text/x-python",
   "name": "python",
   "nbconvert_exporter": "python",
   "pygments_lexer": "ipython2",
   "version": "2.7.6"
  }
 },
 "nbformat": 4,
 "nbformat_minor": 5
}
