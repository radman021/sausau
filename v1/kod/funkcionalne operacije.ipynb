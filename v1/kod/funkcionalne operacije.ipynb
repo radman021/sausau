{
 "cells": [
  {
   "metadata": {},
   "cell_type": "markdown",
   "source": "# Funkcionalne operacije nad kolekcijama",
   "id": "af4a20ca46a0c2d9"
  },
  {
   "metadata": {},
   "cell_type": "markdown",
   "source": "## Lambda funkcija",
   "id": "9c07b121b6b1759c"
  },
  {
   "metadata": {
    "ExecuteTime": {
     "end_time": "2025-07-02T07:26:14.059826Z",
     "start_time": "2025-07-02T07:26:14.057032Z"
    }
   },
   "cell_type": "code",
   "source": [
    "# Lambda funkcija koja sabira 1 na dati broj\n",
    "f = lambda x: x + 1\n",
    "print(f(5))\n",
    "\n",
    "# Isto kao:\n",
    "def f2(x):\n",
    "    return x + 1\n",
    "print(f2(5))"
   ],
   "id": "1e593ed3f18a1b07",
   "outputs": [
    {
     "name": "stdout",
     "output_type": "stream",
     "text": [
      "6\n",
      "6\n"
     ]
    }
   ],
   "execution_count": 1
  },
  {
   "metadata": {},
   "cell_type": "markdown",
   "source": "## map()",
   "id": "a22f35d8bb198cf2"
  },
  {
   "metadata": {
    "ExecuteTime": {
     "end_time": "2025-07-02T07:26:24.805989Z",
     "start_time": "2025-07-02T07:26:24.800872Z"
    }
   },
   "cell_type": "code",
   "source": [
    "brojevi = [1, 2, 3, 4]\n",
    "kvadrati = list(map(lambda x: x**2, brojevi))\n",
    "print(kvadrati)"
   ],
   "id": "211f022c08178fa4",
   "outputs": [
    {
     "name": "stdout",
     "output_type": "stream",
     "text": [
      "[1, 4, 9, 16]\n"
     ]
    }
   ],
   "execution_count": 2
  },
  {
   "metadata": {},
   "cell_type": "markdown",
   "source": "## filter()",
   "id": "187aa68f4695c4c0"
  },
  {
   "metadata": {
    "ExecuteTime": {
     "end_time": "2025-07-02T07:27:17.141269Z",
     "start_time": "2025-07-02T07:27:17.138460Z"
    }
   },
   "cell_type": "code",
   "source": [
    "brojevi = [1, 2, 3, 4, 5]\n",
    "parni = list(filter(lambda x: x % 2 == 0, brojevi))\n",
    "print(parni)"
   ],
   "id": "501a085c7840d1d6",
   "outputs": [
    {
     "name": "stdout",
     "output_type": "stream",
     "text": [
      "[2, 4]\n"
     ]
    }
   ],
   "execution_count": 6
  },
  {
   "metadata": {},
   "cell_type": "markdown",
   "source": "## sorted()",
   "id": "3016e3344dd7b9a"
  },
  {
   "metadata": {
    "ExecuteTime": {
     "end_time": "2025-07-02T07:27:45.279221Z",
     "start_time": "2025-07-02T07:27:45.276561Z"
    }
   },
   "cell_type": "code",
   "source": [
    "parovi = [(7, 'a'), (2, 'c'), (18, 'b')]\n",
    "sortirani = sorted(parovi, key=lambda x: x[1])\n",
    "print(sortirani)"
   ],
   "id": "c41d34bc57051384",
   "outputs": [
    {
     "name": "stdout",
     "output_type": "stream",
     "text": [
      "[(7, 'a'), (18, 'b'), (2, 'c')]\n"
     ]
    }
   ],
   "execution_count": 9
  },
  {
   "metadata": {},
   "cell_type": "markdown",
   "source": "## zip()",
   "id": "fc7540b158a7d061"
  },
  {
   "metadata": {
    "ExecuteTime": {
     "end_time": "2025-07-02T07:27:59.165847Z",
     "start_time": "2025-07-02T07:27:59.163448Z"
    }
   },
   "cell_type": "code",
   "source": [
    "imena = ['Ana', 'Marko', 'Ivana']\n",
    "godine = [23, 30, 27]\n",
    "spojeno = list(zip(imena, godine))\n",
    "print(spojeno)"
   ],
   "id": "426d08c448700fc0",
   "outputs": [
    {
     "name": "stdout",
     "output_type": "stream",
     "text": [
      "[('Ana', 23), ('Marko', 30), ('Ivana', 27)]\n"
     ]
    }
   ],
   "execution_count": 10
  },
  {
   "metadata": {},
   "cell_type": "markdown",
   "source": "## enumerate()",
   "id": "7d9ead2e4893dd57"
  },
  {
   "metadata": {
    "ExecuteTime": {
     "end_time": "2025-07-02T07:28:18.283248Z",
     "start_time": "2025-07-02T07:28:18.280480Z"
    }
   },
   "cell_type": "code",
   "source": [
    "imena = ['Ana', 'Marko', 'Ivana']\n",
    "for i, ime in enumerate(imena):\n",
    "    print(f\"{i}: {ime}\")"
   ],
   "id": "f9f392fdb224fcef",
   "outputs": [
    {
     "name": "stdout",
     "output_type": "stream",
     "text": [
      "0: Ana\n",
      "1: Marko\n",
      "2: Ivana\n"
     ]
    }
   ],
   "execution_count": 11
  }
 ],
 "metadata": {
  "kernelspec": {
   "display_name": "Python 3",
   "language": "python",
   "name": "python3"
  },
  "language_info": {
   "codemirror_mode": {
    "name": "ipython",
    "version": 2
   },
   "file_extension": ".py",
   "mimetype": "text/x-python",
   "name": "python",
   "nbconvert_exporter": "python",
   "pygments_lexer": "ipython2",
   "version": "2.7.6"
  }
 },
 "nbformat": 4,
 "nbformat_minor": 5
}
