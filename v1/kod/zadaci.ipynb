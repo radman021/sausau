{
 "cells": [
  {
   "metadata": {},
   "cell_type": "markdown",
   "source": "# Zadaci za vezbu",
   "id": "2949215bee3a642"
  },
  {
   "metadata": {},
   "cell_type": "markdown",
   "source": "## Zadatak 1 - Suma dva broja",
   "id": "45e012b6891a4a77"
  },
  {
   "metadata": {},
   "cell_type": "code",
   "outputs": [],
   "execution_count": null,
   "source": [
    "def two_sum(nums, target):\n",
    "    for i in range(len(nums)):\n",
    "        for j in range(i + 1, len(nums)):\n",
    "            if nums[i] + nums[j] == target:\n",
    "                return [i, j]"
   ],
   "id": "aee9ea2855114d9b"
  },
  {
   "metadata": {},
   "cell_type": "code",
   "outputs": [],
   "execution_count": null,
   "source": [
    "nums = [2, 7, 11, 15]\n",
    "target = 9\n",
    "print(two_sum(nums, target))"
   ],
   "id": "89a076acbd2eb742"
  },
  {
   "metadata": {},
   "cell_type": "markdown",
   "source": "## Zadatak 2 - Uklanjanje duplikata",
   "id": "f544b3a93ce5218"
  },
  {
   "metadata": {},
   "cell_type": "code",
   "outputs": [],
   "execution_count": null,
   "source": [
    "def remove_duplicates(nums):\n",
    "    if not nums:\n",
    "        return 0\n",
    "\n",
    "    unique = [nums[0]]\n",
    "\n",
    "    for i in range(1, len(nums)):\n",
    "        if nums[i] != nums[i - 1]:\n",
    "            unique.append(nums[i])\n",
    "\n",
    "    for i in range(len(unique)):\n",
    "        nums[i] = unique[i]\n",
    "\n",
    "    return len(unique)"
   ],
   "id": "8e05634c9d59fd02"
  },
  {
   "metadata": {},
   "cell_type": "code",
   "outputs": [],
   "execution_count": null,
   "source": [
    "nums = [8,5,4,3,3,2,1]\n",
    "print(remove_duplicates(nums))"
   ],
   "id": "21d8fdce33a1f53"
  },
  {
   "metadata": {},
   "cell_type": "markdown",
   "source": "## Zadatak 3 - Plus 1",
   "id": "b7df8a3c2ebd30cc"
  },
  {
   "metadata": {
    "ExecuteTime": {
     "end_time": "2025-07-02T07:44:22.554124Z",
     "start_time": "2025-07-02T07:44:22.549358Z"
    }
   },
   "cell_type": "code",
   "source": [
    "def plus_one(digits):\n",
    "    broj = 0\n",
    "    for cifra in digits:\n",
    "        broj = broj * 10 + cifra\n",
    "\n",
    "    broj += 1\n",
    "    rezultat = [int(c) for c in str(broj)]\n",
    "    return rezultat"
   ],
   "id": "b8385f9fb2ef243d",
   "outputs": [],
   "execution_count": 7
  },
  {
   "metadata": {
    "ExecuteTime": {
     "end_time": "2025-07-02T07:44:29.741125Z",
     "start_time": "2025-07-02T07:44:29.737459Z"
    }
   },
   "cell_type": "code",
   "source": [
    "digits = [4,3,2,9]\n",
    "print(plus_one(digits))"
   ],
   "id": "2da3a56946226d67",
   "outputs": [
    {
     "name": "stdout",
     "output_type": "stream",
     "text": [
      "[4, 3, 3, 0]\n"
     ]
    }
   ],
   "execution_count": 9
  },
  {
   "metadata": {},
   "cell_type": "markdown",
   "source": "## Zadatak 4 - Spajanje sortiranih nizova",
   "id": "409d3638f9c4459f"
  },
  {
   "metadata": {
    "ExecuteTime": {
     "end_time": "2025-07-02T07:50:48.894336Z",
     "start_time": "2025-07-02T07:50:48.892216Z"
    }
   },
   "cell_type": "code",
   "source": [
    "def merge(nums1, m, nums2, n):\n",
    "    # Uzmi samo korisne delove nums1 i nums2\n",
    "    deo1 = nums1[:m]\n",
    "    deo2 = nums2\n",
    "\n",
    "    # Spoji obe liste i sortiraj\n",
    "    spojeno = deo1 + deo2\n",
    "    spojeno.sort()\n",
    "\n",
    "    # Upisi rezultat nazad u nums1\n",
    "    for i in range(len(spojeno)):\n",
    "        nums1[i] = spojeno[i]\n",
    "    print(nums1)"
   ],
   "id": "ca33d8473e4cd3cf",
   "outputs": [],
   "execution_count": 13
  },
  {
   "metadata": {
    "ExecuteTime": {
     "end_time": "2025-07-02T07:50:50.057723Z",
     "start_time": "2025-07-02T07:50:50.054348Z"
    }
   },
   "cell_type": "code",
   "source": "merge([1,2,3,0,0,0],3,[2,5,6],3)",
   "id": "2278bab52f96ba31",
   "outputs": [
    {
     "name": "stdout",
     "output_type": "stream",
     "text": [
      "[1, 2, 2, 3, 5, 6]\n"
     ]
    }
   ],
   "execution_count": 14
  },
  {
   "metadata": {},
   "cell_type": "markdown",
   "source": "## Zadatak 5 - Vecinski eleemnt",
   "id": "4bc69eb2a50e1d0d"
  },
  {
   "metadata": {
    "ExecuteTime": {
     "end_time": "2025-07-02T07:55:28.298150Z",
     "start_time": "2025-07-02T07:55:28.295854Z"
    }
   },
   "cell_type": "code",
   "source": [
    "def majorityElement(nums):\n",
    "    counts = {}\n",
    "\n",
    "    for num in nums:\n",
    "        if num in counts:\n",
    "            counts[num] += 1\n",
    "        else:\n",
    "            counts[num] = 1\n",
    "\n",
    "    n = len(nums)\n",
    "    for key in counts:\n",
    "        if counts[key] > n // 2:\n",
    "            return key"
   ],
   "id": "debf92e4a1c3bb11",
   "outputs": [],
   "execution_count": 15
  },
  {
   "metadata": {
    "ExecuteTime": {
     "end_time": "2025-07-02T07:55:28.863437Z",
     "start_time": "2025-07-02T07:55:28.860681Z"
    }
   },
   "cell_type": "code",
   "source": [
    "nums = [2, 2, 1, 1, 1, 2, 2]\n",
    "print(majorityElement(nums))"
   ],
   "id": "ecba658e28512250",
   "outputs": [
    {
     "name": "stdout",
     "output_type": "stream",
     "text": [
      "2\n"
     ]
    }
   ],
   "execution_count": 16
  },
  {
   "metadata": {},
   "cell_type": "markdown",
   "source": "## Zadatak 6 - Nedostajuci broj",
   "id": "2757a0c4b0bdde12"
  },
  {
   "metadata": {
    "ExecuteTime": {
     "end_time": "2025-07-02T08:01:54.172102Z",
     "start_time": "2025-07-02T08:01:54.169983Z"
    }
   },
   "cell_type": "code",
   "source": [
    "def missingNumber(nums):\n",
    "    n = len(nums)\n",
    "    num_set = set(nums)\n",
    "\n",
    "    for i in range(n + 1):\n",
    "        if i not in num_set:\n",
    "            return i"
   ],
   "id": "5b90eb8edd326bfa",
   "outputs": [],
   "execution_count": 1
  },
  {
   "metadata": {
    "ExecuteTime": {
     "end_time": "2025-07-02T08:01:54.873505Z",
     "start_time": "2025-07-02T08:01:54.871035Z"
    }
   },
   "cell_type": "code",
   "source": [
    "nums = [9, 6, 4, 2, 3, 5, 7, 0, 1]\n",
    "print(missingNumber(nums))"
   ],
   "id": "f334b8e06a5541cc",
   "outputs": [
    {
     "name": "stdout",
     "output_type": "stream",
     "text": [
      "8\n"
     ]
    }
   ],
   "execution_count": 2
  },
  {
   "metadata": {},
   "cell_type": "markdown",
   "source": "## Teemov napad",
   "id": "45dc9042b071afb"
  },
  {
   "metadata": {
    "ExecuteTime": {
     "end_time": "2025-07-02T08:02:27.347358Z",
     "start_time": "2025-07-02T08:02:27.342516Z"
    }
   },
   "cell_type": "code",
   "source": [
    "def findPoisonedDuration(timeSeries, duration):\n",
    "    if not timeSeries:\n",
    "        return 0\n",
    "\n",
    "    total = 0\n",
    "    for i in range(len(timeSeries) - 1):\n",
    "        gap = timeSeries[i + 1] - timeSeries[i]\n",
    "        total += min(gap, duration)\n",
    "\n",
    "    return total + duration"
   ],
   "id": "87f18667c9964092",
   "outputs": [],
   "execution_count": 3
  },
  {
   "metadata": {
    "ExecuteTime": {
     "end_time": "2025-07-02T08:02:28.029901Z",
     "start_time": "2025-07-02T08:02:28.026819Z"
    }
   },
   "cell_type": "code",
   "source": [
    "timeSeries = [1, 4]\n",
    "duration = 2\n",
    "print(findPoisonedDuration(timeSeries, duration))"
   ],
   "id": "686a0e8778a2127c",
   "outputs": [
    {
     "name": "stdout",
     "output_type": "stream",
     "text": [
      "4\n"
     ]
    }
   ],
   "execution_count": 4
  }
 ],
 "metadata": {
  "kernelspec": {
   "display_name": "Python 3",
   "language": "python",
   "name": "python3"
  },
  "language_info": {
   "codemirror_mode": {
    "name": "ipython",
    "version": 2
   },
   "file_extension": ".py",
   "mimetype": "text/x-python",
   "name": "python",
   "nbconvert_exporter": "python",
   "pygments_lexer": "ipython2",
   "version": "2.7.6"
  }
 },
 "nbformat": 4,
 "nbformat_minor": 5
}
