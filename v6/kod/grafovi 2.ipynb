{
 "cells": [
  {
   "metadata": {},
   "cell_type": "markdown",
   "source": "# Grafovi 2",
   "id": "5465377a0e7112cd"
  },
  {
   "metadata": {},
   "cell_type": "markdown",
   "source": "## Topolosko sortiranje",
   "id": "9043487215408f0"
  },
  {
   "metadata": {
    "ExecuteTime": {
     "end_time": "2025-07-07T17:48:35.819254Z",
     "start_time": "2025-07-07T17:48:35.814369Z"
    }
   },
   "cell_type": "code",
   "source": [
    "class Graph:\n",
    "    def __init__(self):\n",
    "        self.graph = {}\n",
    "\n",
    "    def addEdge(self, u, v):\n",
    "        if u not in self.graph:\n",
    "            self.graph[u] = []\n",
    "        if v not in self.graph:\n",
    "            self.graph[v] = []\n",
    "        self.graph[u].append(v)\n",
    "\n",
    "    def topologicalSortUtil(self, v, visited, stack):\n",
    "        visited[v] = True\n",
    "        for i in self.graph[v]:\n",
    "            if not visited[i]:\n",
    "                self.topologicalSortUtil(i, visited, stack)\n",
    "        stack.insert(0, v)\n",
    "\n",
    "    def topoLogicalSort(self):\n",
    "        visited = [False] * len(self.graph)\n",
    "        stack = []\n",
    "        for i in self.graph:\n",
    "            if not visited[i]:\n",
    "                self.topologicalSortUtil(i, visited, stack)\n",
    "        print(stack)\n",
    "        return stack  # Dodato za animaciju"
   ],
   "id": "1325e488afa1dc44",
   "outputs": [],
   "execution_count": 21
  },
  {
   "metadata": {
    "ExecuteTime": {
     "end_time": "2025-07-07T17:48:36.140054Z",
     "start_time": "2025-07-07T17:48:36.136211Z"
    }
   },
   "cell_type": "code",
   "source": [
    "g = Graph()\n",
    "g.addEdge(5, 2)\n",
    "g.addEdge(5, 0)\n",
    "g.addEdge(4, 0)\n",
    "g.addEdge(4, 1)\n",
    "g.addEdge(2, 3)\n",
    "g.addEdge(3, 1)\n",
    "\n",
    "print(\"Topološki sortiran graf:\")\n",
    "order = g.topoLogicalSort()"
   ],
   "id": "742acd2c5b5c6ae8",
   "outputs": [
    {
     "name": "stdout",
     "output_type": "stream",
     "text": [
      "Topološki sortiran graf:\n",
      "[4, 5, 0, 2, 3, 1]\n"
     ]
    }
   ],
   "execution_count": 22
  },
  {
   "metadata": {},
   "cell_type": "markdown",
   "source": "## Primov algoritam",
   "id": "2adb560cc486f51f"
  },
  {
   "metadata": {
    "ExecuteTime": {
     "end_time": "2025-07-07T18:18:53.344106Z",
     "start_time": "2025-07-07T18:18:53.337756Z"
    }
   },
   "cell_type": "code",
   "source": [
    "class Graph:\n",
    "    def __init__(self):\n",
    "        self.graph = {}\n",
    "\n",
    "    def addEdge(self, u, v, w):\n",
    "        if u not in self.graph:\n",
    "            self.graph[u] = []\n",
    "        if v not in self.graph:\n",
    "            self.graph[v] = []\n",
    "        self.graph[u].append((v, w))\n",
    "        self.graph[v].append((u, w))\n",
    "\n",
    "    def prim(self):\n",
    "        visited = [False] * len(self.graph)\n",
    "        visited[0] = True  # Počinjemo od \"v0\"\n",
    "        E = 0\n",
    "        total_weight = 0\n",
    "        print(\"Grana   -   Težina\")\n",
    "        while E < len(self.graph) - 1:\n",
    "            minimum = float('inf')\n",
    "            a = b = 0\n",
    "            for n in range(len(self.graph)):\n",
    "                if visited[n]:\n",
    "                    for to, weight in self.graph[f\"v{n}\"]:\n",
    "                        to_index = int(to[1:])  # \"v7\" → 7\n",
    "                        if not visited[to_index] and weight < minimum:\n",
    "                            minimum = weight\n",
    "                            a = n\n",
    "                            b = to_index\n",
    "            print(f\"v{a} - v{b}     {minimum}\")\n",
    "            total_weight += minimum\n",
    "            visited[b] = True\n",
    "            E += 1\n",
    "        print(f\"Ukupna težina minimalnog razapinjućeg stabla: {total_weight}\")"
   ],
   "id": "ddd79453fa8395d6",
   "outputs": [],
   "execution_count": 33
  },
  {
   "metadata": {
    "ExecuteTime": {
     "end_time": "2025-07-07T18:18:53.560789Z",
     "start_time": "2025-07-07T18:18:53.557052Z"
    }
   },
   "cell_type": "code",
   "source": [
    "g = Graph()\n",
    "g.addEdge(\"v0\", \"v1\", 4)\n",
    "g.addEdge(\"v0\", \"v8\", 8)\n",
    "g.addEdge(\"v1\", \"v3\", 8)\n",
    "g.addEdge(\"v1\", \"v8\", 11)\n",
    "g.addEdge(\"v2\", \"v3\", 2)\n",
    "g.addEdge(\"v2\", \"v7\", 6)\n",
    "g.addEdge(\"v2\", \"v8\", 7)\n",
    "g.addEdge(\"v3\", \"v4\", 7)\n",
    "g.addEdge(\"v3\", \"v6\", 4)\n",
    "g.addEdge(\"v4\", \"v6\", 14)\n",
    "g.addEdge(\"v4\", \"v5\", 9)\n",
    "g.addEdge(\"v5\", \"v6\", 10)\n",
    "g.addEdge(\"v6\", \"v7\", 2)\n",
    "g.addEdge(\"v7\", \"v8\", 1)"
   ],
   "id": "f9ff74cf2e3000d9",
   "outputs": [],
   "execution_count": 34
  },
  {
   "metadata": {
    "ExecuteTime": {
     "end_time": "2025-07-07T18:18:53.903691Z",
     "start_time": "2025-07-07T18:18:53.901572Z"
    }
   },
   "cell_type": "code",
   "source": [
    "print(\"Primov algoritam:\")\n",
    "g.prim()"
   ],
   "id": "a2a0cee322bcb74e",
   "outputs": [
    {
     "name": "stdout",
     "output_type": "stream",
     "text": [
      "Primov algoritam:\n",
      "Grana   -   Težina\n",
      "v0 - v1     4\n",
      "v0 - v8     8\n",
      "v8 - v7     1\n",
      "v7 - v6     2\n",
      "v6 - v3     4\n",
      "v3 - v2     2\n",
      "v3 - v4     7\n",
      "v4 - v5     9\n",
      "Ukupna težina minimalnog razapinjućeg stabla: 37\n"
     ]
    }
   ],
   "execution_count": 35
  },
  {
   "metadata": {},
   "cell_type": "markdown",
   "source": "## Kruskalov algoritam",
   "id": "8f1c06fb7c0826d1"
  },
  {
   "metadata": {
    "ExecuteTime": {
     "end_time": "2025-07-07T18:30:39.955751Z",
     "start_time": "2025-07-07T18:30:39.948267Z"
    }
   },
   "cell_type": "code",
   "source": [
    "class Graph:\n",
    "    def __init__(self):\n",
    "        self.graph = {}\n",
    "        self.edges = []\n",
    "\n",
    "    def addEdge(self, u, v, w):\n",
    "        if u not in self.graph:\n",
    "            self.graph[u] = []\n",
    "        if v not in self.graph:\n",
    "            self.graph[v] = []\n",
    "        self.graph[u].append((v, w))\n",
    "        self.graph[v].append((u, w))\n",
    "        self.edges.append((u, v, w))\n",
    "\n",
    "    def find(self, parent, i):\n",
    "        if parent[i] != i:\n",
    "            parent[i] = self.find(parent, parent[i])  # path compression\n",
    "        return parent[i]\n",
    "\n",
    "    def union(self, parent, rank, x, y):\n",
    "        xroot = self.find(parent, x)\n",
    "        yroot = self.find(parent, y)\n",
    "\n",
    "        if rank[xroot] < rank[yroot]:\n",
    "            parent[xroot] = yroot\n",
    "        elif rank[xroot] > rank[yroot]:\n",
    "            parent[yroot] = xroot\n",
    "        else:\n",
    "            parent[yroot] = xroot\n",
    "            rank[xroot] += 1\n",
    "\n",
    "    def kruskal(self):\n",
    "        result = []\n",
    "        i, e = 0, 0\n",
    "        total_weight = 0\n",
    "        self.edges = sorted(self.edges, key=lambda item: item[2])\n",
    "        parent = {}\n",
    "        rank = {}\n",
    "\n",
    "        for node in self.graph:\n",
    "            parent[node] = node\n",
    "            rank[node] = 0\n",
    "\n",
    "        while e < len(self.graph) - 1:\n",
    "            u, v, w = self.edges[i]\n",
    "            i += 1\n",
    "            x = self.find(parent, u)\n",
    "            y = self.find(parent, v)\n",
    "\n",
    "            if x != y:\n",
    "                e += 1\n",
    "                result.append((u, v, w))\n",
    "                total_weight += w\n",
    "                self.union(parent, rank, x, y)\n",
    "\n",
    "        print(\"Grane koje se nalaze u MST:\")\n",
    "        for u, v, weight in result:\n",
    "            print(f\"{u} - {v}: {weight}\")\n",
    "        print(f\"Ukupna težina minimalnog razapinjućeg stabla: {total_weight}\")"
   ],
   "id": "b8b486e8c6212eb1",
   "outputs": [],
   "execution_count": 40
  },
  {
   "metadata": {
    "ExecuteTime": {
     "end_time": "2025-07-07T18:30:40.210593Z",
     "start_time": "2025-07-07T18:30:40.206539Z"
    }
   },
   "cell_type": "code",
   "source": [
    "g = Graph()\n",
    "g.addEdge(\"v0\", \"v1\", 4)\n",
    "g.addEdge(\"v0\", \"v8\", 8)\n",
    "g.addEdge(\"v1\", \"v3\", 8)\n",
    "g.addEdge(\"v1\", \"v8\", 11)\n",
    "g.addEdge(\"v2\", \"v3\", 2)\n",
    "g.addEdge(\"v2\", \"v7\", 6)\n",
    "g.addEdge(\"v2\", \"v8\", 7)\n",
    "g.addEdge(\"v3\", \"v4\", 7)\n",
    "g.addEdge(\"v3\", \"v6\", 4)\n",
    "g.addEdge(\"v4\", \"v6\", 14)\n",
    "g.addEdge(\"v4\", \"v5\", 9)\n",
    "g.addEdge(\"v5\", \"v6\", 10)\n",
    "g.addEdge(\"v6\", \"v7\", 2)\n",
    "g.addEdge(\"v7\", \"v8\", 1)"
   ],
   "id": "9fdc07bbcfb05020",
   "outputs": [],
   "execution_count": 41
  },
  {
   "metadata": {
    "ExecuteTime": {
     "end_time": "2025-07-07T18:30:40.550032Z",
     "start_time": "2025-07-07T18:30:40.546977Z"
    }
   },
   "cell_type": "code",
   "source": [
    "print(\"Kruskalov algoritam:\")\n",
    "g.kruskal()"
   ],
   "id": "85bc108d1c705a5",
   "outputs": [
    {
     "name": "stdout",
     "output_type": "stream",
     "text": [
      "Kruskalov algoritam:\n",
      "Grane koje se nalaze u MST:\n",
      "v7 - v8: 1\n",
      "v2 - v3: 2\n",
      "v6 - v7: 2\n",
      "v0 - v1: 4\n",
      "v3 - v6: 4\n",
      "v3 - v4: 7\n",
      "v0 - v8: 8\n",
      "v4 - v5: 9\n",
      "Ukupna težina minimalnog razapinjućeg stabla: 37\n"
     ]
    }
   ],
   "execution_count": 42
  },
  {
   "metadata": {},
   "cell_type": "code",
   "outputs": [],
   "execution_count": null,
   "source": "",
   "id": "72f4a05287fcb9a9"
  }
 ],
 "metadata": {
  "kernelspec": {
   "display_name": "Python 3",
   "language": "python",
   "name": "python3"
  },
  "language_info": {
   "codemirror_mode": {
    "name": "ipython",
    "version": 2
   },
   "file_extension": ".py",
   "mimetype": "text/x-python",
   "name": "python",
   "nbconvert_exporter": "python",
   "pygments_lexer": "ipython2",
   "version": "2.7.6"
  }
 },
 "nbformat": 4,
 "nbformat_minor": 5
}
