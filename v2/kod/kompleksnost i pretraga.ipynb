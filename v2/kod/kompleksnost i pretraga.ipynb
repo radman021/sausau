{
 "cells": [
  {
   "metadata": {},
   "cell_type": "markdown",
   "source": "# Kompleksnost i pretraga",
   "id": "ff3498fcaaa083a0"
  },
  {
   "metadata": {},
   "cell_type": "markdown",
   "source": "## Vreme i inicijalizacija velikih nizova",
   "id": "7e30d1a559cfb7a9"
  },
  {
   "metadata": {
    "ExecuteTime": {
     "end_time": "2025-07-02T18:10:28.505554Z",
     "start_time": "2025-07-02T18:10:28.502522Z"
    }
   },
   "cell_type": "code",
   "source": [
    "import time\n",
    "def measure_time(func, *args):\n",
    "    start = time.time()\n",
    "    func(*args)\n",
    "    end = time.time()\n",
    "    print(f\"Vreme: {end - start:.10f} sekundi\")"
   ],
   "id": "2501af2224f43b1a",
   "outputs": [],
   "execution_count": 83
  },
  {
   "metadata": {
    "ExecuteTime": {
     "end_time": "2025-07-02T18:10:28.526830Z",
     "start_time": "2025-07-02T18:10:28.521409Z"
    }
   },
   "cell_type": "code",
   "source": [
    "import random\n",
    "\n",
    "n = 10_000  # broj elemenata\n",
    "small_random_list = [random.randint(0, 1_000_000) for _ in range(n)]"
   ],
   "id": "f0aa81e1c74d0e3d",
   "outputs": [],
   "execution_count": 84
  },
  {
   "metadata": {
    "ExecuteTime": {
     "end_time": "2025-07-02T18:10:28.760984Z",
     "start_time": "2025-07-02T18:10:28.533040Z"
    }
   },
   "cell_type": "code",
   "source": [
    "n = 1_000_000  # broj elemenata\n",
    "big_random_list = [random.randint(0, 1_000_000) for _ in range(n)]"
   ],
   "id": "b80c7c4b827fe38e",
   "outputs": [],
   "execution_count": 85
  },
  {
   "metadata": {},
   "cell_type": "markdown",
   "source": "## Kompleksnost",
   "id": "56c4d16ea14fecb6"
  },
  {
   "metadata": {},
   "cell_type": "markdown",
   "source": "### O(1)",
   "id": "a2633007813ba15"
  },
  {
   "cell_type": "code",
   "id": "initial_id",
   "metadata": {
    "collapsed": true,
    "ExecuteTime": {
     "end_time": "2025-07-02T18:10:28.768276Z",
     "start_time": "2025-07-02T18:10:28.766653Z"
    }
   },
   "source": [
    "def prvi_element(niz):\n",
    "    return niz[0]"
   ],
   "outputs": [],
   "execution_count": 86
  },
  {
   "metadata": {
    "ExecuteTime": {
     "end_time": "2025-07-02T18:10:28.775546Z",
     "start_time": "2025-07-02T18:10:28.773562Z"
    }
   },
   "cell_type": "code",
   "source": [
    "print(\"Test sa malim nizom:\")\n",
    "measure_time(prvi_element, small_random_list)\n",
    "\n",
    "print(\"Test sa velikim nizom:\")\n",
    "measure_time(prvi_element, big_random_list)"
   ],
   "id": "c70ed97e76bd53e7",
   "outputs": [
    {
     "name": "stdout",
     "output_type": "stream",
     "text": [
      "Test sa malim nizom:\n",
      "Vreme: 0.0000000000 sekundi\n",
      "Test sa velikim nizom:\n",
      "Vreme: 0.0000009537 sekundi\n"
     ]
    }
   ],
   "execution_count": 87
  },
  {
   "metadata": {},
   "cell_type": "markdown",
   "source": "### O(log n)",
   "id": "e79a0f54b24024"
  },
  {
   "metadata": {
    "ExecuteTime": {
     "end_time": "2025-07-02T18:11:21.066633Z",
     "start_time": "2025-07-02T18:11:21.063232Z"
    }
   },
   "cell_type": "code",
   "source": [
    "def deljenje_sa_dva(n):\n",
    "    while n > 1:\n",
    "        n = n // 2"
   ],
   "id": "10d0ead39992eb2d",
   "outputs": [],
   "execution_count": 88
  },
  {
   "metadata": {
    "ExecuteTime": {
     "end_time": "2025-07-02T18:13:13.880095Z",
     "start_time": "2025-07-02T18:13:13.877080Z"
    }
   },
   "cell_type": "code",
   "source": [
    "print(\"Test logaritamske složenosti sa malim n:\")\n",
    "measure_time(deljenje_sa_dva, len(small_random_list))\n",
    "\n",
    "print(\"Test logaritamske složenosti sa velikim n:\")\n",
    "measure_time(deljenje_sa_dva, len(big_random_list))"
   ],
   "id": "b8e470da3a399777",
   "outputs": [
    {
     "name": "stdout",
     "output_type": "stream",
     "text": [
      "Test logaritamske složenosti sa malim n:\n",
      "Vreme: 0.0000011921 sekundi\n",
      "Test logaritamske složenosti sa velikim n:\n",
      "Vreme: 0.0000009537 sekundi\n"
     ]
    }
   ],
   "execution_count": 107
  },
  {
   "metadata": {},
   "cell_type": "markdown",
   "source": "### O(n)",
   "id": "49a2876dfab74466"
  },
  {
   "metadata": {
    "ExecuteTime": {
     "end_time": "2025-07-02T18:14:18.661537Z",
     "start_time": "2025-07-02T18:14:18.658050Z"
    }
   },
   "cell_type": "code",
   "source": [
    "def ispis(n):\n",
    "    for i in range(n):\n",
    "        pass"
   ],
   "id": "2a985691b3eb0121",
   "outputs": [],
   "execution_count": 108
  },
  {
   "metadata": {
    "ExecuteTime": {
     "end_time": "2025-07-02T18:14:32.199570Z",
     "start_time": "2025-07-02T18:14:32.183933Z"
    }
   },
   "cell_type": "code",
   "source": [
    "print(\"Test linearne složenosti sa malim n:\")\n",
    "measure_time(ispis, len(small_random_list))\n",
    "\n",
    "print(\"Test linearne složenosti sa velikim n:\")\n",
    "measure_time(ispis, len(big_random_list))"
   ],
   "id": "e18d23556fe90f4",
   "outputs": [
    {
     "name": "stdout",
     "output_type": "stream",
     "text": [
      "Test linearne složenosti sa malim n:\n",
      "Vreme: 0.0001149178 sekundi\n",
      "Test linearne složenosti sa velikim n:\n",
      "Vreme: 0.0124018192 sekundi\n"
     ]
    }
   ],
   "execution_count": 112
  },
  {
   "metadata": {},
   "cell_type": "markdown",
   "source": "### O(n^2)",
   "id": "2df363920af28325"
  },
  {
   "metadata": {
    "ExecuteTime": {
     "end_time": "2025-07-02T18:15:33.194230Z",
     "start_time": "2025-07-02T18:15:33.191585Z"
    }
   },
   "cell_type": "code",
   "source": [
    "def kvadratna(n):\n",
    "    for i in range(n):\n",
    "        for j in range(n):\n",
    "            pass"
   ],
   "id": "29bc69b4a5f7e098",
   "outputs": [],
   "execution_count": 115
  },
  {
   "metadata": {
    "ExecuteTime": {
     "end_time": "2025-07-02T18:16:29.757442Z",
     "start_time": "2025-07-02T18:16:19.586491Z"
    }
   },
   "cell_type": "code",
   "source": [
    "print(\"Test kvadratne složenosti sa malim n:\")\n",
    "measure_time(kvadratna, 10_000)\n",
    "\n",
    "print(\"Test kvadratne složenosti sa velikim n:\")\n",
    "measure_time(kvadratna,40_000)"
   ],
   "id": "6f31d58636ec8473",
   "outputs": [
    {
     "name": "stdout",
     "output_type": "stream",
     "text": [
      "Test kvadratne složenosti sa malim n:\n",
      "Vreme: 0.6081910133 sekundi\n",
      "Test kvadratne složenosti sa velikim n:\n",
      "Vreme: 9.5600669384 sekundi\n"
     ]
    }
   ],
   "execution_count": 118
  },
  {
   "metadata": {},
   "cell_type": "markdown",
   "source": "### O(2^n)",
   "id": "d57c7847fdfa6eb5"
  },
  {
   "metadata": {
    "ExecuteTime": {
     "end_time": "2025-07-02T18:16:59.528309Z",
     "start_time": "2025-07-02T18:16:59.525151Z"
    }
   },
   "cell_type": "code",
   "source": [
    "def fib(n):\n",
    "    if n <= 1:\n",
    "        return n\n",
    "    return fib(n - 1) + fib(n - 2)"
   ],
   "id": "72618fc60baac7d4",
   "outputs": [],
   "execution_count": 119
  },
  {
   "metadata": {
    "ExecuteTime": {
     "end_time": "2025-07-02T18:17:19.658609Z",
     "start_time": "2025-07-02T18:17:19.580609Z"
    }
   },
   "cell_type": "code",
   "source": [
    "print(\"Test eksponencijalne složenosti za n=20:\")\n",
    "measure_time(fib, 20)\n",
    "\n",
    "print(\"Test eksponencijalne složenosti za n=30:\")\n",
    "measure_time(fib, 30)"
   ],
   "id": "122561183ee42126",
   "outputs": [
    {
     "name": "stdout",
     "output_type": "stream",
     "text": [
      "Test eksponencijalne složenosti za n=20:\n",
      "Vreme: 0.0009460449 sekundi\n",
      "Test eksponencijalne složenosti za n=30:\n",
      "Vreme: 0.0742437840 sekundi\n"
     ]
    }
   ],
   "execution_count": 122
  },
  {
   "metadata": {},
   "cell_type": "markdown",
   "source": "### O(n!)",
   "id": "852119d585808e69"
  },
  {
   "metadata": {
    "ExecuteTime": {
     "end_time": "2025-07-02T18:18:20.296600Z",
     "start_time": "2025-07-02T18:18:20.293261Z"
    }
   },
   "cell_type": "code",
   "source": [
    "import itertools\n",
    "\n",
    "def permutacije(n):\n",
    "    elementi = list(range(n))\n",
    "    for p in itertools.permutations(elementi):\n",
    "        pass  # ne printamo, da ubrzamo test"
   ],
   "id": "3bc2d0428aaa5391",
   "outputs": [],
   "execution_count": 123
  },
  {
   "metadata": {
    "ExecuteTime": {
     "end_time": "2025-07-02T18:18:59.838965Z",
     "start_time": "2025-07-02T18:18:59.835661Z"
    }
   },
   "cell_type": "code",
   "source": [
    "print(\"Test faktorske složenosti za n=7:\")\n",
    "measure_time(permutacije, 7)\n",
    "\n",
    "print(\"Test faktorske složenosti za n=8:\")\n",
    "measure_time(permutacije, 8)"
   ],
   "id": "bdf07cae21976cd8",
   "outputs": [
    {
     "name": "stdout",
     "output_type": "stream",
     "text": [
      "Test faktorske složenosti za n=7:\n",
      "Vreme: 0.0000922680 sekundi\n",
      "Test faktorske složenosti za n=8:\n",
      "Vreme: 0.0008518696 sekundi\n"
     ]
    }
   ],
   "execution_count": 129
  },
  {
   "metadata": {},
   "cell_type": "markdown",
   "source": "## Algoritmi pretrage",
   "id": "252cb7549fb0f886"
  },
  {
   "metadata": {},
   "cell_type": "markdown",
   "source": "### Linearna pretraga",
   "id": "2aa448a2955a2608"
  },
  {
   "metadata": {
    "ExecuteTime": {
     "end_time": "2025-07-02T18:33:59.386305Z",
     "start_time": "2025-07-02T18:33:59.382400Z"
    }
   },
   "cell_type": "code",
   "source": [
    "def linear_search(niz, x):\n",
    "    for i in range(len(niz)):\n",
    "        if niz[i] == x:\n",
    "            return i\n",
    "    return -1"
   ],
   "id": "30b4e33d743a5dc7",
   "outputs": [],
   "execution_count": 130
  },
  {
   "metadata": {
    "ExecuteTime": {
     "end_time": "2025-07-02T18:33:59.852191Z",
     "start_time": "2025-07-02T18:33:59.828066Z"
    }
   },
   "cell_type": "code",
   "source": [
    "# Najbolji slučaj (element je na početku)\n",
    "print(\"Linearna pretraga — najbolji slučaj (prvi element):\")\n",
    "measure_time(linear_search, small_random_list, small_random_list[0])\n",
    "measure_time(linear_search, big_random_list, big_random_list[0])\n",
    "\n",
    "# Srednji slučaj (element je na sredini)\n",
    "print(\"\\nLinearna pretraga — srednji slučaj (srednji element):\")\n",
    "measure_time(linear_search, small_random_list, small_random_list[len(small_random_list)//2])\n",
    "measure_time(linear_search, big_random_list, big_random_list[len(big_random_list)//2])\n",
    "\n",
    "# Najgori slučaj (element ne postoji)\n",
    "print(\"\\nLinearna pretraga — najgori slučaj (nema elementa):\")\n",
    "measure_time(linear_search, small_random_list, -1)\n",
    "measure_time(linear_search, big_random_list, -1)"
   ],
   "id": "91c1c1611f5a35ba",
   "outputs": [
    {
     "name": "stdout",
     "output_type": "stream",
     "text": [
      "Linearna pretraga — najbolji slučaj (prvi element):\n",
      "Vreme: 0.0000009537 sekundi\n",
      "Vreme: 0.0000011921 sekundi\n",
      "\n",
      "Linearna pretraga — srednji slučaj (srednji element):\n",
      "Vreme: 0.0000782013 sekundi\n",
      "Vreme: 0.0079431534 sekundi\n",
      "\n",
      "Linearna pretraga — najgori slučaj (nema elementa):\n",
      "Vreme: 0.0002048016 sekundi\n",
      "Vreme: 0.0135829449 sekundi\n"
     ]
    }
   ],
   "execution_count": 131
  },
  {
   "metadata": {},
   "cell_type": "markdown",
   "source": "### Linearna pretraga sa Strazarom",
   "id": "31a523214c47f4c"
  },
  {
   "metadata": {
    "ExecuteTime": {
     "end_time": "2025-07-02T18:35:03.851117Z",
     "start_time": "2025-07-02T18:35:03.847749Z"
    }
   },
   "cell_type": "code",
   "source": [
    "def sentinel_search(niz, x):\n",
    "    n = len(niz)\n",
    "    last = niz[-1]\n",
    "    niz[-1] = x  # dodavanje stražara\n",
    "    i = 0\n",
    "    while niz[i] != x:\n",
    "        i += 1\n",
    "    niz[-1] = last  # vraćamo poslednji element\n",
    "    if i < n - 1 or last == x:\n",
    "        return i\n",
    "    return -1"
   ],
   "id": "152421dd42e562f8",
   "outputs": [],
   "execution_count": 132
  },
  {
   "metadata": {
    "ExecuteTime": {
     "end_time": "2025-07-02T18:35:04.285348Z",
     "start_time": "2025-07-02T18:35:04.245330Z"
    }
   },
   "cell_type": "code",
   "source": [
    "# Najbolji slučaj (na početku)\n",
    "print(\"Sentinel pretraga — najbolji slučaj:\")\n",
    "measure_time(sentinel_search, small_random_list.copy(), small_random_list[0])\n",
    "measure_time(sentinel_search, big_random_list.copy(), big_random_list[0])\n",
    "\n",
    "# Srednji slučaj (u sredini)\n",
    "print(\"\\nSentinel pretraga — srednji slučaj:\")\n",
    "measure_time(sentinel_search, small_random_list.copy(), small_random_list[len(small_random_list)//2])\n",
    "measure_time(sentinel_search, big_random_list.copy(), big_random_list[len(big_random_list)//2])\n",
    "\n",
    "# Najgori slučaj (ne postoji)\n",
    "print(\"\\nSentinel pretraga — najgori slučaj:\")\n",
    "measure_time(sentinel_search, small_random_list.copy(), -1)\n",
    "measure_time(sentinel_search, big_random_list.copy(), -1)"
   ],
   "id": "9f6419560a77148c",
   "outputs": [
    {
     "name": "stdout",
     "output_type": "stream",
     "text": [
      "Sentinel pretraga — najbolji slučaj:\n",
      "Vreme: 0.0000019073 sekundi\n",
      "Vreme: 0.0000059605 sekundi\n",
      "\n",
      "Sentinel pretraga — srednji slučaj:\n",
      "Vreme: 0.0000998974 sekundi\n",
      "Vreme: 0.0096843243 sekundi\n",
      "\n",
      "Sentinel pretraga — najgori slučaj:\n",
      "Vreme: 0.0001711845 sekundi\n",
      "Vreme: 0.0175099373 sekundi\n"
     ]
    }
   ],
   "execution_count": 133
  },
  {
   "metadata": {},
   "cell_type": "markdown",
   "source": "### Binarna pretraga",
   "id": "81bc934ede3e262c"
  },
  {
   "metadata": {
    "ExecuteTime": {
     "end_time": "2025-07-02T18:36:20.506940Z",
     "start_time": "2025-07-02T18:36:20.503082Z"
    }
   },
   "cell_type": "code",
   "source": [
    "def binary_search(niz, x):\n",
    "    low, high = 0, len(niz) - 1\n",
    "    while low <= high:\n",
    "        mid = (low + high) // 2\n",
    "        if niz[mid] == x:\n",
    "            return mid\n",
    "        elif niz[mid] < x:\n",
    "            low = mid + 1\n",
    "        else:\n",
    "            high = mid - 1\n",
    "    return -1"
   ],
   "id": "3b30bbdaea6460dc",
   "outputs": [],
   "execution_count": 136
  },
  {
   "metadata": {},
   "cell_type": "markdown",
   "source": "#### Obavezno sortiranje",
   "id": "7884aa40d1d98072"
  },
  {
   "metadata": {
    "ExecuteTime": {
     "end_time": "2025-07-02T18:36:12.836236Z",
     "start_time": "2025-07-02T18:36:12.712629Z"
    }
   },
   "cell_type": "code",
   "source": [
    "sorted_small = sorted(small_random_list)\n",
    "sorted_big = sorted(big_random_list)"
   ],
   "id": "2fb13045938770e1",
   "outputs": [],
   "execution_count": 134
  },
  {
   "metadata": {
    "ExecuteTime": {
     "end_time": "2025-07-02T18:36:22.312980Z",
     "start_time": "2025-07-02T18:36:22.307979Z"
    }
   },
   "cell_type": "code",
   "source": [
    "# Najbolji slučaj — tražimo srednji element\n",
    "print(\"Binarna pretraga — najbolji slučaj:\")\n",
    "measure_time(binary_search, sorted_small, sorted_small[len(sorted_small)//2])\n",
    "measure_time(binary_search, sorted_big, sorted_big[len(sorted_big)//2])\n",
    "\n",
    "# Srednji slučaj — tražimo neki \"nasumični\" koji nije odmah na sredini\n",
    "print(\"\\nBinarna pretraga — srednji slučaj:\")\n",
    "measure_time(binary_search, sorted_small, sorted_small[len(sorted_small)//4])\n",
    "measure_time(binary_search, sorted_big, sorted_big[len(sorted_big)//4])\n",
    "\n",
    "# Najgori slučaj — tražimo nepostojeći element\n",
    "print(\"\\nBinarna pretraga — najgori slučaj:\")\n",
    "measure_time(binary_search, sorted_small, -1)\n",
    "measure_time(binary_search, sorted_big, -1)"
   ],
   "id": "355f56a1713e5104",
   "outputs": [
    {
     "name": "stdout",
     "output_type": "stream",
     "text": [
      "Binarna pretraga — najbolji slučaj:\n",
      "Vreme: 0.0000109673 sekundi\n",
      "Vreme: 0.0000021458 sekundi\n",
      "\n",
      "Binarna pretraga — srednji slučaj:\n",
      "Vreme: 0.0000069141 sekundi\n",
      "Vreme: 0.0000131130 sekundi\n",
      "\n",
      "Binarna pretraga — najgori slučaj:\n",
      "Vreme: 0.0000078678 sekundi\n",
      "Vreme: 0.0000119209 sekundi\n"
     ]
    }
   ],
   "execution_count": 137
  },
  {
   "metadata": {},
   "cell_type": "markdown",
   "source": "### Rekurzivna binarna pretraga",
   "id": "d0a90b6e6ef440a5"
  },
  {
   "metadata": {
    "ExecuteTime": {
     "end_time": "2025-07-02T18:36:54.530864Z",
     "start_time": "2025-07-02T18:36:54.528359Z"
    }
   },
   "cell_type": "code",
   "source": [
    "def binary_search_recursive(niz, x, low, high):\n",
    "    if low > high:\n",
    "        return -1\n",
    "    mid = (low + high) // 2\n",
    "    if niz[mid] == x:\n",
    "        return mid\n",
    "    elif niz[mid] < x:\n",
    "        return binary_search_recursive(niz, x, mid + 1, high)\n",
    "    else:\n",
    "        return binary_search_recursive(niz, x, low, mid - 1)"
   ],
   "id": "d5d72ccbef089df9",
   "outputs": [],
   "execution_count": 138
  },
  {
   "metadata": {
    "ExecuteTime": {
     "end_time": "2025-07-02T18:37:28.232130Z",
     "start_time": "2025-07-02T18:37:28.228519Z"
    }
   },
   "cell_type": "code",
   "source": [
    "# Funkcija koja poziva rekurzivnu pretragu pravilno\n",
    "def test_recursive_search(niz, x):\n",
    "    return binary_search_recursive(niz, x, 0, len(niz) - 1)\n",
    "\n",
    "# Najbolji slučaj: srednji element\n",
    "print(\"Rekurzivna binarna pretraga — najbolji slučaj:\")\n",
    "measure_time(test_recursive_search, sorted_small, sorted_small[len(sorted_small)//2])\n",
    "measure_time(test_recursive_search, sorted_big, sorted_big[len(sorted_big)//2])\n",
    "\n",
    "# Srednji slučaj: element u prvoj četvrtini\n",
    "print(\"\\nRekurzivna binarna pretraga — srednji slučaj:\")\n",
    "measure_time(test_recursive_search, sorted_small, sorted_small[len(sorted_small)//4])\n",
    "measure_time(test_recursive_search, sorted_big, sorted_big[len(sorted_big)//4])\n",
    "\n",
    "# Najgori slučaj: element ne postoji\n",
    "print(\"\\nRekurzivna binarna pretraga — najgori slučaj:\")\n",
    "measure_time(test_recursive_search, sorted_small, -1)\n",
    "measure_time(test_recursive_search, sorted_big, -1)"
   ],
   "id": "5715ecee0a3a0738",
   "outputs": [
    {
     "name": "stdout",
     "output_type": "stream",
     "text": [
      "Rekurzivna binarna pretraga — najbolji slučaj:\n",
      "Vreme: 0.0000121593 sekundi\n",
      "Vreme: 0.0000009537 sekundi\n",
      "\n",
      "Rekurzivna binarna pretraga — srednji slučaj:\n",
      "Vreme: 0.0000081062 sekundi\n",
      "Vreme: 0.0000150204 sekundi\n",
      "\n",
      "Rekurzivna binarna pretraga — najgori slučaj:\n",
      "Vreme: 0.0000069141 sekundi\n",
      "Vreme: 0.0000109673 sekundi\n"
     ]
    }
   ],
   "execution_count": 139
  }
 ],
 "metadata": {
  "kernelspec": {
   "display_name": "Python 3",
   "language": "python",
   "name": "python3"
  },
  "language_info": {
   "codemirror_mode": {
    "name": "ipython",
    "version": 2
   },
   "file_extension": ".py",
   "mimetype": "text/x-python",
   "name": "python",
   "nbconvert_exporter": "python",
   "pygments_lexer": "ipython2",
   "version": "2.7.6"
  }
 },
 "nbformat": 4,
 "nbformat_minor": 5
}
