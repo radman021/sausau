{
 "cells": [
  {
   "metadata": {},
   "cell_type": "markdown",
   "source": "# Zadaci za vezbu",
   "id": "f479533d214ae225"
  },
  {
   "metadata": {},
   "cell_type": "markdown",
   "source": "## Zadatak 1 - Presek dva niza (LeetCode ID: 349)",
   "id": "9b1b8ddba17c7855"
  },
  {
   "cell_type": "code",
   "id": "initial_id",
   "metadata": {
    "collapsed": true,
    "ExecuteTime": {
     "end_time": "2025-07-02T18:40:34.157469Z",
     "start_time": "2025-07-02T18:40:34.155707Z"
    }
   },
   "source": [
    "def presek_nizova(nums1, nums2):\n",
    "    return list(set(nums1) & set(nums2))"
   ],
   "outputs": [],
   "execution_count": 1
  },
  {
   "metadata": {
    "ExecuteTime": {
     "end_time": "2025-07-02T18:40:48.804685Z",
     "start_time": "2025-07-02T18:40:48.800044Z"
    }
   },
   "cell_type": "code",
   "source": "print(presek_nizova([4, 9, 5], [9, 4, 9, 8, 4]))",
   "id": "c3994f579d1b327d",
   "outputs": [
    {
     "name": "stdout",
     "output_type": "stream",
     "text": [
      "[9, 4]\n"
     ]
    }
   ],
   "execution_count": 2
  },
  {
   "metadata": {},
   "cell_type": "markdown",
   "source": "## Zadatak 2 - Pronadji poziciju (LeetCode ID: 35)",
   "id": "2aa39f24c8933863"
  },
  {
   "metadata": {
    "ExecuteTime": {
     "end_time": "2025-07-02T18:42:14.429259Z",
     "start_time": "2025-07-02T18:42:14.424022Z"
    }
   },
   "cell_type": "code",
   "source": [
    "def pronadji_poziciju(nums, target):\n",
    "    low, high = 0, len(nums) - 1\n",
    "\n",
    "    while low <= high:\n",
    "        mid = (low + high) // 2\n",
    "        if nums[mid] == target:\n",
    "            return mid\n",
    "        elif nums[mid] < target:\n",
    "            low = mid + 1\n",
    "        else:\n",
    "            high = mid - 1\n",
    "\n",
    "    return low"
   ],
   "id": "84c72754038663d6",
   "outputs": [],
   "execution_count": 4
  },
  {
   "metadata": {
    "ExecuteTime": {
     "end_time": "2025-07-02T18:42:14.609041Z",
     "start_time": "2025-07-02T18:42:14.606349Z"
    }
   },
   "cell_type": "code",
   "source": "print(pronadji_poziciju([1, 3, 5, 6], 5))",
   "id": "facca8f4ad303f71",
   "outputs": [
    {
     "name": "stdout",
     "output_type": "stream",
     "text": [
      "2\n"
     ]
    }
   ],
   "execution_count": 5
  },
  {
   "metadata": {},
   "cell_type": "markdown",
   "source": "## Zadatak 3 - Koren (LeetCode ID: 69)",
   "id": "11d35c281c1c5896"
  },
  {
   "metadata": {
    "ExecuteTime": {
     "end_time": "2025-07-02T18:46:48.611845Z",
     "start_time": "2025-07-02T18:46:48.606501Z"
    }
   },
   "cell_type": "code",
   "source": [
    "def koren(x):\n",
    "    if x < 2:\n",
    "        return x\n",
    "\n",
    "    low, high = 1, x\n",
    "    while low <= high:\n",
    "        mid = (low + high) // 2\n",
    "        if mid * mid == x:\n",
    "            return mid\n",
    "        elif mid * mid < x:\n",
    "            low = mid + 1\n",
    "        else:\n",
    "            high = mid - 1\n",
    "    return high"
   ],
   "id": "48726f3663b56672",
   "outputs": [],
   "execution_count": 9
  },
  {
   "metadata": {
    "ExecuteTime": {
     "end_time": "2025-07-02T18:46:51.912609Z",
     "start_time": "2025-07-02T18:46:51.910602Z"
    }
   },
   "cell_type": "code",
   "source": "print(koren(17))",
   "id": "3f8f3a34141e139e",
   "outputs": [
    {
     "name": "stdout",
     "output_type": "stream",
     "text": [
      "4\n"
     ]
    }
   ],
   "execution_count": 11
  },
  {
   "metadata": {},
   "cell_type": "markdown",
   "source": "## Zadatak 4 - Nedostajuc broj (LeetCode ID: 268)",
   "id": "751738479b6a7f24"
  },
  {
   "metadata": {},
   "cell_type": "code",
   "outputs": [],
   "execution_count": null,
   "source": [
    "def missingNumber1(nums):\n",
    "        n = len(nums)\n",
    "        num_set = set(nums)\n",
    "\n",
    "        for i in range(n + 1):\n",
    "            if i not in num_set:\n",
    "                return i"
   ],
   "id": "8e73bb3a93dea157"
  },
  {
   "metadata": {
    "ExecuteTime": {
     "end_time": "2025-07-02T18:47:41.767220Z",
     "start_time": "2025-07-02T18:47:41.762690Z"
    }
   },
   "cell_type": "code",
   "source": [
    "def missingNumber2(nums):\n",
    "    n = len(nums)\n",
    "    ocekivana_suma = n * (n + 1) // 2\n",
    "    stvarna_suma = sum(nums)\n",
    "    return ocekivana_suma - stvarna_suma"
   ],
   "id": "1eb0d823efe9769d",
   "outputs": [],
   "execution_count": 12
  },
  {
   "metadata": {
    "ExecuteTime": {
     "end_time": "2025-07-02T18:47:42.213257Z",
     "start_time": "2025-07-02T18:47:42.211014Z"
    }
   },
   "cell_type": "code",
   "source": [
    "print(missingNumber2([3, 0, 1]))\n",
    "print(missingNumber2([0, 1]))\n",
    "print(missingNumber2([9,6,4,2,3,5,7,0,1]))"
   ],
   "id": "a5e1ca472bd6a971",
   "outputs": [
    {
     "name": "stdout",
     "output_type": "stream",
     "text": [
      "2\n",
      "2\n",
      "8\n"
     ]
    }
   ],
   "execution_count": 13
  },
  {
   "metadata": {},
   "cell_type": "markdown",
   "source": "## Zadatak 5 - Vise ili manje (LeetCode ID: 374)",
   "id": "74e0507724eb8c07"
  },
  {
   "metadata": {
    "ExecuteTime": {
     "end_time": "2025-07-02T18:53:39.029138Z",
     "start_time": "2025-07-02T18:53:39.024977Z"
    }
   },
   "cell_type": "code",
   "source": [
    "tajni_broj = 42  # Promeni po želji\n",
    "\n",
    "def guess(num):\n",
    "    if num == tajni_broj:\n",
    "        return 0\n",
    "    elif num > tajni_broj:\n",
    "        return -1\n",
    "    else:\n",
    "        return 1"
   ],
   "id": "44ea81d41cc35144",
   "outputs": [],
   "execution_count": 15
  },
  {
   "metadata": {
    "ExecuteTime": {
     "end_time": "2025-07-02T18:53:39.308073Z",
     "start_time": "2025-07-02T18:53:39.303503Z"
    }
   },
   "cell_type": "code",
   "source": [
    "def guessNumber(n):\n",
    "    low = 1\n",
    "    high = n\n",
    "\n",
    "    while low <= high:\n",
    "        mid = (low + high) // 2\n",
    "        rezultat = guess(mid)\n",
    "\n",
    "        if rezultat == 0:\n",
    "            return mid\n",
    "        elif rezultat == -1:\n",
    "            high = mid - 1\n",
    "        else:\n",
    "            low = mid + 1"
   ],
   "id": "3b2fbae1b2673ed4",
   "outputs": [],
   "execution_count": 16
  },
  {
   "metadata": {
    "ExecuteTime": {
     "end_time": "2025-07-02T18:53:39.632404Z",
     "start_time": "2025-07-02T18:53:39.629442Z"
    }
   },
   "cell_type": "code",
   "source": "print(guessNumber(100))",
   "id": "cfe09f62e2bf6b55",
   "outputs": [
    {
     "name": "stdout",
     "output_type": "stream",
     "text": [
      "42\n"
     ]
    }
   ],
   "execution_count": 17
  }
 ],
 "metadata": {
  "kernelspec": {
   "display_name": "Python 3",
   "language": "python",
   "name": "python3"
  },
  "language_info": {
   "codemirror_mode": {
    "name": "ipython",
    "version": 2
   },
   "file_extension": ".py",
   "mimetype": "text/x-python",
   "name": "python",
   "nbconvert_exporter": "python",
   "pygments_lexer": "ipython2",
   "version": "2.7.6"
  }
 },
 "nbformat": 4,
 "nbformat_minor": 5
}
