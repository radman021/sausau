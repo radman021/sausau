{
 "cells": [
  {
   "metadata": {},
   "cell_type": "markdown",
   "source": "# Sturkture podataka 2",
   "id": "5fd9d33198f60f79"
  },
  {
   "metadata": {},
   "cell_type": "markdown",
   "source": "## Stack",
   "id": "264f6ce389f5ae20"
  },
  {
   "metadata": {
    "ExecuteTime": {
     "end_time": "2025-07-05T08:29:17.804471Z",
     "start_time": "2025-07-05T08:29:17.801527Z"
    }
   },
   "cell_type": "code",
   "source": [
    "class Stack:\n",
    "    def __init__(self):\n",
    "        self.items = []\n",
    "\n",
    "    def push(self, item):\n",
    "        \"\"\"Dodaje novi element na vrh steka\"\"\"\n",
    "        self.items.append(item)\n",
    "\n",
    "    def pop(self):\n",
    "        \"\"\"Uklanja i vraća poslednji ubačeni element\"\"\"\n",
    "        if not self.is_empty():\n",
    "            return self.items.pop()\n",
    "        return None\n",
    "\n",
    "    def peek(self):\n",
    "        \"\"\"Vraća element sa vrha steka bez uklanjanja\"\"\"\n",
    "        if not self.is_empty():\n",
    "            return self.items[-1]\n",
    "        return None\n",
    "\n",
    "    def is_empty(self):\n",
    "        \"\"\"Proverava da li je stek prazan\"\"\"\n",
    "        return len(self.items) == 0"
   ],
   "id": "7b1bee0e68ca911b",
   "outputs": [],
   "execution_count": 1
  },
  {
   "metadata": {
    "ExecuteTime": {
     "end_time": "2025-07-05T08:29:17.825729Z",
     "start_time": "2025-07-05T08:29:17.823628Z"
    }
   },
   "cell_type": "code",
   "source": "s = Stack()",
   "id": "81fa9a4b4195dea1",
   "outputs": [],
   "execution_count": 2
  },
  {
   "metadata": {
    "ExecuteTime": {
     "end_time": "2025-07-05T08:29:17.890876Z",
     "start_time": "2025-07-05T08:29:17.889372Z"
    }
   },
   "cell_type": "code",
   "source": [
    "s.push(10)\n",
    "s.push(20)\n",
    "s.push(30)"
   ],
   "id": "3c5446c2298e3f98",
   "outputs": [],
   "execution_count": 3
  },
  {
   "metadata": {
    "ExecuteTime": {
     "end_time": "2025-07-05T08:29:17.937196Z",
     "start_time": "2025-07-05T08:29:17.935562Z"
    }
   },
   "cell_type": "code",
   "source": "print(\"Da li je stek prazan?\", s.is_empty())",
   "id": "ce9488d27d2866d5",
   "outputs": [
    {
     "name": "stdout",
     "output_type": "stream",
     "text": [
      "Da li je stek prazan? False\n"
     ]
    }
   ],
   "execution_count": 4
  },
  {
   "metadata": {
    "ExecuteTime": {
     "end_time": "2025-07-05T08:29:18.084248Z",
     "start_time": "2025-07-05T08:29:18.080714Z"
    }
   },
   "cell_type": "code",
   "source": "s.items",
   "id": "b3847b86a909ec25",
   "outputs": [
    {
     "data": {
      "text/plain": [
       "[10, 20, 30]"
      ]
     },
     "execution_count": 5,
     "metadata": {},
     "output_type": "execute_result"
    }
   ],
   "execution_count": 5
  },
  {
   "metadata": {
    "ExecuteTime": {
     "end_time": "2025-07-05T08:29:20.166244Z",
     "start_time": "2025-07-05T08:29:20.163550Z"
    }
   },
   "cell_type": "code",
   "source": "print(\"Element na vrhu:\", s.peek())",
   "id": "7237d6e48c44d334",
   "outputs": [
    {
     "name": "stdout",
     "output_type": "stream",
     "text": [
      "Element na vrhu: 30\n"
     ]
    }
   ],
   "execution_count": 6
  },
  {
   "metadata": {
    "ExecuteTime": {
     "end_time": "2025-07-05T08:29:20.424503Z",
     "start_time": "2025-07-05T08:29:20.422235Z"
    }
   },
   "cell_type": "code",
   "source": [
    "print(\"Uklanjanje:\", s.pop())\n",
    "print(\"Novi vrh:\", s.peek())"
   ],
   "id": "74a9c63cc94c3d5",
   "outputs": [
    {
     "name": "stdout",
     "output_type": "stream",
     "text": [
      "Uklanjanje: 30\n",
      "Novi vrh: 20\n"
     ]
    }
   ],
   "execution_count": 7
  },
  {
   "metadata": {
    "ExecuteTime": {
     "end_time": "2025-07-05T08:29:20.947529Z",
     "start_time": "2025-07-05T08:29:20.945248Z"
    }
   },
   "cell_type": "code",
   "source": [
    "print(\"Uklanjanje:\", s.pop())\n",
    "print(\"Uklanjanje:\", s.pop())\n",
    "print(\"Uklanjanje sa praznog steka:\", s.pop())"
   ],
   "id": "ae877321ac0edab9",
   "outputs": [
    {
     "name": "stdout",
     "output_type": "stream",
     "text": [
      "Uklanjanje: 20\n",
      "Uklanjanje: 10\n",
      "Uklanjanje sa praznog steka: None\n"
     ]
    }
   ],
   "execution_count": 8
  },
  {
   "metadata": {
    "ExecuteTime": {
     "end_time": "2025-07-05T08:29:23.022664Z",
     "start_time": "2025-07-05T08:29:23.020113Z"
    }
   },
   "cell_type": "code",
   "source": "print(\"Da li je stek prazan?\", s.is_empty())",
   "id": "6819c8e9ab42f93d",
   "outputs": [
    {
     "name": "stdout",
     "output_type": "stream",
     "text": [
      "Da li je stek prazan? True\n"
     ]
    }
   ],
   "execution_count": 9
  },
  {
   "metadata": {},
   "cell_type": "markdown",
   "source": "## Validacija izraza sa zagradama",
   "id": "5b6fdbc6507bffe0"
  },
  {
   "metadata": {},
   "cell_type": "code",
   "outputs": [],
   "execution_count": null,
   "source": [
    "def validacija_zagrada(izraz):\n",
    "    stek = Stack()\n",
    "    parovi = {')': '(', ']': '[', '}': '{'}\n",
    "\n",
    "    for char in izraz:\n",
    "        if char in '([{':\n",
    "            stek.push(char)\n",
    "        elif char in ')]}':\n",
    "            if stek.is_empty() or stek.pop() != parovi[char]:\n",
    "                return False\n",
    "    return stek.is_empty()"
   ],
   "id": "302b12c267a6241e"
  },
  {
   "metadata": {},
   "cell_type": "code",
   "outputs": [],
   "execution_count": null,
   "source": [
    "print(validacija_zagrada(\"({[]})\"))\n",
    "print(validacija_zagrada(\"(([]{[]}))\"))\n",
    "print(validacija_zagrada(\"({[)]}\"))\n",
    "print(validacija_zagrada(\"(((()\"))\n",
    "print(validacija_zagrada(\"\"))"
   ],
   "id": "48f40cd31baedb88"
  },
  {
   "metadata": {},
   "cell_type": "markdown",
   "source": "## Queue",
   "id": "2802df0bbfd9936e"
  },
  {
   "metadata": {},
   "cell_type": "code",
   "outputs": [],
   "execution_count": null,
   "source": [
    "from collections import deque\n",
    "\n",
    "class Queue:\n",
    "    def __init__(self):\n",
    "        self.items = deque()\n",
    "\n",
    "    def enqueue(self, item):\n",
    "        self.items.append(item)  # dodaje na kraj reda\n",
    "\n",
    "    def dequeue(self):\n",
    "        if self.is_empty():\n",
    "            return None\n",
    "        return self.items.popleft()  # uklanja sa početka reda\n",
    "\n",
    "    def peek(self):\n",
    "        if self.is_empty():\n",
    "            return None\n",
    "        return self.items[0]  # prikazuje prvi bez uklanjanja\n",
    "\n",
    "    def is_empty(self):\n",
    "        return len(self.items) == 0"
   ],
   "id": "d56d05f1eb46f3d6"
  },
  {
   "metadata": {},
   "cell_type": "code",
   "outputs": [],
   "execution_count": null,
   "source": "q = Queue()",
   "id": "8f5daa7879ff2db6"
  },
  {
   "metadata": {},
   "cell_type": "code",
   "outputs": [],
   "execution_count": null,
   "source": [
    "q.enqueue(10)\n",
    "q.enqueue(20)\n",
    "q.enqueue(30)"
   ],
   "id": "689b7bbcba08614b"
  },
  {
   "metadata": {},
   "cell_type": "code",
   "outputs": [],
   "execution_count": null,
   "source": "print(q.is_empty())",
   "id": "96c1ce83ceed0a0d"
  },
  {
   "metadata": {},
   "cell_type": "code",
   "outputs": [],
   "execution_count": null,
   "source": "print(q.dequeue())",
   "id": "9fa67a72565875ef"
  },
  {
   "metadata": {},
   "cell_type": "code",
   "outputs": [],
   "execution_count": null,
   "source": "print(q.peek())",
   "id": "a46362578ece162b"
  },
  {
   "metadata": {},
   "cell_type": "code",
   "outputs": [],
   "execution_count": null,
   "source": [
    "print(q.dequeue())\n",
    "print(q.dequeue())\n",
    "print(q.is_empty())"
   ],
   "id": "b6e2897b6b93e9ae"
  },
  {
   "metadata": {},
   "cell_type": "markdown",
   "source": "## Upravljanje redom zadataka",
   "id": "cc536bbb74d76cee"
  },
  {
   "metadata": {},
   "cell_type": "code",
   "outputs": [],
   "execution_count": null,
   "source": [
    "import time\n",
    "# Lista zadataka: svaki je (naziv, trajanje)\n",
    "zadaci = [\n",
    "    (\"Backup fajlova\", 3),\n",
    "    (\"Slanje izveštaja\", 2),\n",
    "    (\"Restart sistema\", 1)\n",
    "]\n",
    "\n",
    "# Kreiramo red\n",
    "red = Queue()\n",
    "\n",
    "# Dodajemo zadatke u red\n",
    "for z in zadaci:\n",
    "    red.enqueue(z)\n",
    "\n",
    "# Izvršavamo zadatke redom\n",
    "while not red.is_empty():\n",
    "    naziv, trajanje = red.dequeue()\n",
    "    print(f\"Izvršava se zadatak: {naziv} (traje {trajanje} sekundi)\")\n",
    "    time.sleep(trajanje)  # simulacija trajanja\n",
    "\n",
    "# Provera da li je red prazan\n",
    "print(\"Svi zadaci su izvršeni:\", red.is_empty())"
   ],
   "id": "cbaa2224193d103"
  },
  {
   "metadata": {},
   "cell_type": "markdown",
   "source": "## Linked List",
   "id": "b781db4f44716e8d"
  },
  {
   "metadata": {},
   "cell_type": "code",
   "outputs": [],
   "execution_count": null,
   "source": [
    "class Node:\n",
    "    def __init__(self, value):\n",
    "        self.value = value  # vrednost čvora\n",
    "        self.next = None    # veza ka sledećem čvoru\n",
    "\n",
    "class LinkedList:\n",
    "    def __init__(self):\n",
    "        self.head = None  # početak liste\n",
    "\n",
    "    def append(self, value):\n",
    "        \"\"\"Dodavanje čvora na kraj liste\"\"\"\n",
    "        new_node = Node(value)\n",
    "        if not self.head:\n",
    "            self.head = new_node\n",
    "        else:\n",
    "            current = self.head\n",
    "            while current.next:\n",
    "                current = current.next\n",
    "            current.next = new_node\n",
    "\n",
    "    def prepend(self, value):\n",
    "        \"\"\"Dodavanje čvora na početak liste\"\"\"\n",
    "        new_node = Node(value)\n",
    "        new_node.next = self.head\n",
    "        self.head = new_node\n",
    "\n",
    "    def delete(self, value):\n",
    "        \"\"\"Brisanje prvog čvora sa datom vrednošću\"\"\"\n",
    "        current = self.head\n",
    "        if current and current.value == value:\n",
    "            self.head = current.next\n",
    "            return\n",
    "        while current and current.next:\n",
    "            if current.next.value == value:\n",
    "                current.next = current.next.next\n",
    "                return\n",
    "            current = current.next\n",
    "\n",
    "    def find(self, value):\n",
    "        \"\"\"Pronalazak elementa u listi\"\"\"\n",
    "        current = self.head\n",
    "        while current:\n",
    "            if current.value == value:\n",
    "                return current\n",
    "            current = current.next\n",
    "        return None\n",
    "\n",
    "    def print_list(self):\n",
    "        \"\"\"Pomoćna metoda za ispis liste\"\"\"\n",
    "        current = self.head\n",
    "        elements = []\n",
    "        while current:\n",
    "            elements.append(str(current.value))\n",
    "            current = current.next\n",
    "        print(\" -> \".join(elements) if elements else \"Lista je prazna.\")"
   ],
   "id": "126092c8adcff18c"
  },
  {
   "metadata": {},
   "cell_type": "code",
   "outputs": [],
   "execution_count": null,
   "source": "ll = LinkedList()",
   "id": "ec7cda4706228a1f"
  },
  {
   "metadata": {},
   "cell_type": "code",
   "outputs": [],
   "execution_count": null,
   "source": [
    "ll.append(10)\n",
    "ll.append(20)\n",
    "ll.append(30)\n",
    "print(\"Lista nakon dodavanja na kraj:\")\n",
    "ll.print_list()"
   ],
   "id": "743bc01cfa508c24"
  },
  {
   "metadata": {},
   "cell_type": "code",
   "outputs": [],
   "execution_count": null,
   "source": [
    "ll.prepend(5)\n",
    "print(\"Lista nakon dodavanja na početak:\")\n",
    "ll.print_list()"
   ],
   "id": "49b2fb4c83447eb"
  },
  {
   "metadata": {},
   "cell_type": "code",
   "outputs": [],
   "execution_count": null,
   "source": [
    "print(\"Da li postoji 20?\", \"Da\" if ll.find(20) else \"Ne\")\n",
    "print(\"Da li postoji 99?\", \"Da\" if ll.find(99) else \"Ne\")"
   ],
   "id": "80fd590433b0637e"
  },
  {
   "metadata": {},
   "cell_type": "code",
   "outputs": [],
   "execution_count": null,
   "source": [
    "ll.delete(20)\n",
    "print(\"Lista nakon brisanja 20:\")\n",
    "ll.print_list()"
   ],
   "id": "282d6f5681b04d5"
  },
  {
   "metadata": {},
   "cell_type": "code",
   "outputs": [],
   "execution_count": null,
   "source": [
    "ll.delete(5)\n",
    "print(\"Lista nakon brisanja 5:\")\n",
    "ll.print_list()"
   ],
   "id": "1a270986e88d2c6e"
  },
  {
   "metadata": {},
   "cell_type": "code",
   "outputs": [],
   "execution_count": null,
   "source": [
    "ll.delete(30)\n",
    "print(\"Lista nakon brisanja 30:\")\n",
    "ll.print_list()"
   ],
   "id": "b274a7512cb1a272"
  },
  {
   "metadata": {},
   "cell_type": "code",
   "outputs": [],
   "execution_count": null,
   "source": [
    "ll.delete(10)\n",
    "print(\"Lista nakon brisanja 10:\")\n",
    "ll.print_list()"
   ],
   "id": "46c023748336c649"
  },
  {
   "metadata": {},
   "cell_type": "markdown",
   "source": "## Josephus Problem",
   "id": "6fd439bea730167c"
  },
  {
   "metadata": {},
   "cell_type": "code",
   "outputs": [],
   "execution_count": null,
   "source": [
    "class Node:\n",
    "    def __init__(self, value):\n",
    "        self.value = value\n",
    "        self.next = None\n",
    "\n",
    "class CircularLinkedList:\n",
    "    def __init__(self):\n",
    "        self.head = None\n",
    "\n",
    "    def append(self, value):\n",
    "        \"\"\"Dodaje novi čvor u kružnu listu\"\"\"\n",
    "        new_node = Node(value)\n",
    "        if not self.head:\n",
    "            self.head = new_node\n",
    "            new_node.next = new_node  # Sam na sebe pokazuje\n",
    "        else:\n",
    "            current = self.head\n",
    "            while current.next != self.head:\n",
    "                current = current.next\n",
    "            current.next = new_node\n",
    "            new_node.next = self.head\n",
    "\n",
    "    def remove_next(self, prev_node):\n",
    "        \"\"\"Briše čvor koji sledi nakon datog čvora i vraća njegovu vrednost\"\"\"\n",
    "        removed_node = prev_node.next\n",
    "        prev_node.next = removed_node.next\n",
    "        if removed_node == self.head:\n",
    "            self.head = removed_node.next\n",
    "        return removed_node.value"
   ],
   "id": "abd971178fa1a2e1"
  },
  {
   "metadata": {},
   "cell_type": "code",
   "outputs": [],
   "execution_count": null,
   "source": [
    "def josephus(n, k):\n",
    "    # Inicijalizacija kružne liste\n",
    "    circle = CircularLinkedList()\n",
    "    for i in range(1, n + 1):\n",
    "        circle.append(i)\n",
    "\n",
    "    result = []  # Redosled eliminacije\n",
    "    current = circle.head\n",
    "\n",
    "    while current.next != current:  # Dok ne ostane samo jedan čvor\n",
    "        for _ in range(k - 2):\n",
    "            current = current.next\n",
    "        eliminated = circle.remove_next(current)\n",
    "        result.append(eliminated)\n",
    "        current = current.next\n",
    "\n",
    "    survivor = current.value\n",
    "    return result, survivor"
   ],
   "id": "28dd202ca3f58b37"
  },
  {
   "metadata": {},
   "cell_type": "code",
   "outputs": [],
   "execution_count": null,
   "source": [
    "eliminated, winner = josephus(7, 3)\n",
    "print(\"Redosled eliminacije:\", eliminated)\n",
    "print(\"Pobednik:\", winner)"
   ],
   "id": "ca4707280b3fba5b"
  },
  {
   "metadata": {},
   "cell_type": "markdown",
   "source": "## Tree",
   "id": "4c4aa870bbc88878"
  },
  {
   "metadata": {},
   "cell_type": "code",
   "outputs": [],
   "execution_count": null,
   "source": [
    "class Node:\n",
    "    def __init__(self, value):\n",
    "        self.value = value\n",
    "        self.left = None\n",
    "        self.right = None\n",
    "\n",
    "class BinaryTree:\n",
    "    def __init__(self, root_value):\n",
    "        self.root = Node(root_value)\n",
    "\n",
    "    def insert(self, value):\n",
    "        def _insert(node, value):\n",
    "            if not node:\n",
    "                return Node(value)\n",
    "            if value < node.value:\n",
    "                node.left = _insert(node.left, value)\n",
    "            else:\n",
    "                node.right = _insert(node.right, value)\n",
    "            return node\n",
    "        self.root = _insert(self.root, value)\n",
    "\n",
    "    def search(self, value):\n",
    "        current = self.root\n",
    "        while current:\n",
    "            if value == current.value:\n",
    "                return current\n",
    "            elif value < current.value:\n",
    "                current = current.left\n",
    "            else:\n",
    "                current = current.right\n",
    "        return None\n",
    "\n",
    "    def preorder(self, node):\n",
    "        if node:\n",
    "            print(node.value, end=' ')\n",
    "            self.preorder(node.left)\n",
    "            self.preorder(node.right)\n",
    "\n",
    "    def print_tree(self, node = None, prefix=\"\", is_left=True):\n",
    "        if node is not None:\n",
    "            self.print_tree(node.right, prefix + (\"│   \" if is_left else \"    \"), False)\n",
    "            print(prefix + (\"└── \" if is_left else \"┌── \") + str(node.value))\n",
    "            self.print_tree(node.left, prefix + (\"    \" if is_left else \"│   \"), True)"
   ],
   "id": "9af276f036f73fd3"
  },
  {
   "metadata": {},
   "cell_type": "code",
   "outputs": [],
   "execution_count": null,
   "source": "tree = BinaryTree(10)",
   "id": "51d1f308eb60871b"
  },
  {
   "metadata": {},
   "cell_type": "code",
   "outputs": [],
   "execution_count": null,
   "source": [
    "tree.insert(5)\n",
    "tree.insert(15)\n",
    "tree.insert(3)\n",
    "tree.insert(7)\n",
    "tree.insert(12)\n",
    "tree.insert(20)"
   ],
   "id": "1a670e2974834a78"
  },
  {
   "metadata": {},
   "cell_type": "code",
   "outputs": [],
   "execution_count": null,
   "source": [
    "print(\"Preorder obilazak stabla:\")\n",
    "tree.preorder(tree.root)"
   ],
   "id": "97f32b6aa476511d"
  },
  {
   "metadata": {},
   "cell_type": "code",
   "outputs": [],
   "execution_count": null,
   "source": "tree.print_tree(tree.root)",
   "id": "aad98cff61fa0ca2"
  },
  {
   "metadata": {},
   "cell_type": "code",
   "outputs": [],
   "execution_count": null,
   "source": [
    "tree.insert(22)\n",
    "tree.insert(18)\n",
    "tree.insert(1)\n",
    "tree.insert(4)\n",
    "tree.insert(33)\n",
    "tree.insert(99)"
   ],
   "id": "62b52f088fbece1f"
  },
  {
   "metadata": {},
   "cell_type": "code",
   "outputs": [],
   "execution_count": null,
   "source": "tree.print_tree(tree.root)",
   "id": "3b177be74df5e2fb"
  },
  {
   "metadata": {},
   "cell_type": "code",
   "outputs": [],
   "execution_count": null,
   "source": "print(\"Da li postoji čvor sa vrednošću 7?\", \"Da\" if tree.search(7) else \"Ne\")",
   "id": "879308e9094feb83"
  },
  {
   "metadata": {},
   "cell_type": "code",
   "outputs": [],
   "execution_count": null,
   "source": "print(\"Da li postoji čvor sa vrednošću 100?\", \"Da\" if tree.search(100) else \"Ne\")",
   "id": "1e319fb50d6a7028"
  },
  {
   "metadata": {},
   "cell_type": "markdown",
   "source": "## Sortirani telefonski kontakti",
   "id": "a9de8b26518997e4"
  },
  {
   "metadata": {},
   "cell_type": "code",
   "outputs": [],
   "execution_count": null,
   "source": [
    "class ContactTree(BinaryTree):\n",
    "    def inorder(self, node=None):\n",
    "        if node is not None:\n",
    "            self.inorder(node.left)\n",
    "            print(node.value)\n",
    "            self.inorder(node.right)"
   ],
   "id": "6a167bc8a5e6fa4e"
  },
  {
   "metadata": {},
   "cell_type": "code",
   "outputs": [],
   "execution_count": null,
   "source": [
    "contacts = ContactTree(\"Maja\")\n",
    "contacts.insert(\"Ana\")\n",
    "contacts.insert(\"Jovan\")\n",
    "contacts.insert(\"Zoran\")\n",
    "contacts.insert(\"Ivana\")\n",
    "contacts.insert(\"Boris\")\n",
    "contacts.insert(\"Luka\")\n",
    "\n",
    "print(\" Kontakti po abecednom redu:\")\n",
    "contacts.inorder(contacts.root)"
   ],
   "id": "bf4aa157b61cb610"
  }
 ],
 "metadata": {
  "kernelspec": {
   "display_name": "Python 3",
   "language": "python",
   "name": "python3"
  },
  "language_info": {
   "codemirror_mode": {
    "name": "ipython",
    "version": 2
   },
   "file_extension": ".py",
   "mimetype": "text/x-python",
   "name": "python",
   "nbconvert_exporter": "python",
   "pygments_lexer": "ipython2",
   "version": "2.7.6"
  }
 },
 "nbformat": 4,
 "nbformat_minor": 5
}
