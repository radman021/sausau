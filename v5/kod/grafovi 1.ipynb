{
 "cells": [
  {
   "metadata": {},
   "cell_type": "markdown",
   "source": "## Grafovi 1",
   "id": "6eae214c292f7402"
  },
  {
   "metadata": {},
   "cell_type": "markdown",
   "source": "## BFS",
   "id": "de684c8bf94a9e1"
  },
  {
   "metadata": {
    "ExecuteTime": {
     "end_time": "2025-07-06T20:00:48.391068Z",
     "start_time": "2025-07-06T20:00:48.387422Z"
    }
   },
   "cell_type": "code",
   "source": [
    "def bfs(graph, start):\n",
    "    visited = set()\n",
    "    queue = [start]\n",
    "    while queue:\n",
    "        node = queue.pop(0)\n",
    "        if node not in visited:\n",
    "            print(node, end=\" \")\n",
    "            visited.add(node)\n",
    "            queue.extend(graph[node])"
   ],
   "id": "fb7f943602723219",
   "outputs": [],
   "execution_count": 4
  },
  {
   "metadata": {
    "ExecuteTime": {
     "end_time": "2025-07-06T20:01:03.063091Z",
     "start_time": "2025-07-06T20:01:03.060537Z"
    }
   },
   "cell_type": "code",
   "source": [
    "graph = {\n",
    "    1: [2, 3, 4],\n",
    "    2: [5],\n",
    "    3: [6, 7],\n",
    "    4: [8],\n",
    "    5: [9],\n",
    "    6: [10],\n",
    "    7: [],\n",
    "    8: [],\n",
    "    9: [],\n",
    "    10: []\n",
    "}"
   ],
   "id": "b1cb411967798a1a",
   "outputs": [],
   "execution_count": 6
  },
  {
   "metadata": {
    "ExecuteTime": {
     "end_time": "2025-07-06T20:01:03.934188Z",
     "start_time": "2025-07-06T20:01:03.931092Z"
    }
   },
   "cell_type": "code",
   "source": "bfs(graph, 1)",
   "id": "1eaf96da22e00834",
   "outputs": [
    {
     "name": "stdout",
     "output_type": "stream",
     "text": [
      "1 2 3 4 5 6 7 8 9 10 "
     ]
    }
   ],
   "execution_count": 7
  },
  {
   "metadata": {},
   "cell_type": "markdown",
   "source": "## DFS",
   "id": "8069a3db1cff1b30"
  },
  {
   "metadata": {
    "ExecuteTime": {
     "end_time": "2025-07-06T20:02:35.593234Z",
     "start_time": "2025-07-06T20:02:35.590551Z"
    }
   },
   "cell_type": "code",
   "source": [
    "def DFS(visited, graph, cvor):\n",
    "    if cvor not in visited:\n",
    "        print(cvor)\n",
    "        visited.append(cvor)\n",
    "        for sused in graph[cvor]:\n",
    "            DFS(visited, graph, sused)"
   ],
   "id": "436c6dc060573434",
   "outputs": [],
   "execution_count": 8
  },
  {
   "metadata": {
    "ExecuteTime": {
     "end_time": "2025-07-06T20:02:36.536903Z",
     "start_time": "2025-07-06T20:02:36.534680Z"
    }
   },
   "cell_type": "code",
   "source": [
    "graph = {\n",
    "    1: [2, 3, 4],\n",
    "    2: [5],\n",
    "    3: [6, 7],\n",
    "    4: [8],\n",
    "    5: [9],\n",
    "    6: [10],\n",
    "    7: [],\n",
    "    8: [],\n",
    "    9: [],\n",
    "    10: []\n",
    "}"
   ],
   "id": "6ed29100eeb71c09",
   "outputs": [],
   "execution_count": 9
  },
  {
   "metadata": {
    "ExecuteTime": {
     "end_time": "2025-07-06T20:02:47.913432Z",
     "start_time": "2025-07-06T20:02:47.911276Z"
    }
   },
   "cell_type": "code",
   "source": [
    "visited = []\n",
    "DFS(visited, graph, 1)"
   ],
   "id": "6da7f858e646de77",
   "outputs": [
    {
     "name": "stdout",
     "output_type": "stream",
     "text": [
      "1\n",
      "2\n",
      "5\n",
      "9\n",
      "3\n",
      "6\n",
      "10\n",
      "7\n",
      "4\n",
      "8\n"
     ]
    }
   ],
   "execution_count": 10
  },
  {
   "metadata": {},
   "cell_type": "markdown",
   "source": "## Dijkstra",
   "id": "1e8a00fc1b9095be"
  },
  {
   "metadata": {
    "ExecuteTime": {
     "end_time": "2025-07-06T20:04:01.610567Z",
     "start_time": "2025-07-06T20:04:01.608115Z"
    }
   },
   "cell_type": "code",
   "source": "import math",
   "id": "46043c37383bb580",
   "outputs": [],
   "execution_count": 14
  },
  {
   "metadata": {
    "ExecuteTime": {
     "end_time": "2025-07-06T20:04:02.100488Z",
     "start_time": "2025-07-06T20:04:02.097483Z"
    }
   },
   "cell_type": "code",
   "source": [
    "def dijkstra(graph, source):\n",
    "    unvisited = graph.copy()\n",
    "    dist = {}\n",
    "\n",
    "    for cvor in unvisited:\n",
    "        dist[cvor] = math.inf\n",
    "    dist[source] = 0\n",
    "\n",
    "    while unvisited:\n",
    "        min_cvor = None\n",
    "        for cvor in unvisited:\n",
    "            if min_cvor is None or dist[cvor] < dist[min_cvor]:\n",
    "                min_cvor = cvor\n",
    "\n",
    "        for sused, tezina in unvisited[min_cvor]:\n",
    "            if dist[min_cvor] + tezina < dist[sused]:\n",
    "                dist[sused] = dist[min_cvor] + tezina\n",
    "\n",
    "        unvisited.pop(min_cvor)\n",
    "\n",
    "    print(\"Udaljenost čvorova od početnog čvora:\")\n",
    "    for cvor in dist:\n",
    "        print(f\"{cvor}\\t\\t{dist[cvor]}\")"
   ],
   "id": "73b624cc6f989d49",
   "outputs": [],
   "execution_count": 15
  },
  {
   "metadata": {
    "ExecuteTime": {
     "end_time": "2025-07-06T20:04:02.482108Z",
     "start_time": "2025-07-06T20:04:02.480077Z"
    }
   },
   "cell_type": "code",
   "source": [
    "graph = {\n",
    "    'A': [('B', 4), ('C', 5)],\n",
    "    'B': [('C', 11), ('D', 9)],\n",
    "    'C': [('E', 3)],\n",
    "    'D': [('E', 7), ('F', 2)],\n",
    "    'E': [('F', 6)],\n",
    "    'F': []\n",
    "}"
   ],
   "id": "73acbb9b68a735d5",
   "outputs": [],
   "execution_count": 16
  },
  {
   "metadata": {
    "ExecuteTime": {
     "end_time": "2025-07-06T20:04:02.817046Z",
     "start_time": "2025-07-06T20:04:02.814669Z"
    }
   },
   "cell_type": "code",
   "source": "dijkstra(graph, 'A')",
   "id": "a8e32bc1359ba54e",
   "outputs": [
    {
     "name": "stdout",
     "output_type": "stream",
     "text": [
      "Udaljenost čvorova od početnog čvora:\n",
      "A\t\t0\n",
      "B\t\t4\n",
      "C\t\t5\n",
      "D\t\t13\n",
      "E\t\t8\n",
      "F\t\t14\n"
     ]
    }
   ],
   "execution_count": 17
  },
  {
   "metadata": {},
   "cell_type": "markdown",
   "source": "## Bellman-Ford",
   "id": "6ee1d9a1c2e8a25e"
  },
  {
   "metadata": {
    "ExecuteTime": {
     "end_time": "2025-07-06T20:08:51.821813Z",
     "start_time": "2025-07-06T20:08:51.818406Z"
    }
   },
   "cell_type": "code",
   "source": [
    "def bellmanFord(graph, source):\n",
    "    dist = {node: math.inf for node in graph}\n",
    "    dist[source] = 0\n",
    "\n",
    "    for _ in range(len(graph) - 1):\n",
    "        for u in graph:\n",
    "            for v, weight in graph[u]:\n",
    "                if dist[u] + weight < dist[v]:\n",
    "                    dist[v] = dist[u] + weight\n",
    "\n",
    "    # Provera negativnog ciklusa\n",
    "    for u in graph:\n",
    "        for v, weight in graph[u]:\n",
    "            if dist[u] + weight < dist[v]:\n",
    "                print(\"Graf sadrži negativnu kružnu putanju!\")\n",
    "                return\n",
    "\n",
    "    print(\"Najkraće rastojanje od čvora\", source)\n",
    "    for node in dist:\n",
    "        print(f\"{node}: {dist[node]}\")"
   ],
   "id": "3dc7df0921db4c2b",
   "outputs": [],
   "execution_count": 32
  },
  {
   "metadata": {
    "ExecuteTime": {
     "end_time": "2025-07-06T20:08:52.022810Z",
     "start_time": "2025-07-06T20:08:52.019773Z"
    }
   },
   "cell_type": "code",
   "source": [
    "graph = {\n",
    "    'A': [('B', 4), ('C', 5)],\n",
    "    'B': [('C', 11), ('D', 9)],\n",
    "    'C': [('E', 3)],\n",
    "    'D': [('E', 7), ('F', 2)],\n",
    "    'E': [('F', 6)],\n",
    "    'F': []\n",
    "}"
   ],
   "id": "931d305c71db7d61",
   "outputs": [],
   "execution_count": 33
  },
  {
   "metadata": {
    "ExecuteTime": {
     "end_time": "2025-07-06T20:08:52.412758Z",
     "start_time": "2025-07-06T20:08:52.409911Z"
    }
   },
   "cell_type": "code",
   "source": "bellmanFord(graph, 'A')",
   "id": "fc6e7bc206e0b553",
   "outputs": [
    {
     "name": "stdout",
     "output_type": "stream",
     "text": [
      "Najkraće rastojanje od čvora A\n",
      "A: 0\n",
      "B: 4\n",
      "C: 5\n",
      "D: 13\n",
      "E: 8\n",
      "F: 14\n"
     ]
    }
   ],
   "execution_count": 34
  }
 ],
 "metadata": {
  "kernelspec": {
   "display_name": "Python 3",
   "language": "python",
   "name": "python3"
  },
  "language_info": {
   "codemirror_mode": {
    "name": "ipython",
    "version": 2
   },
   "file_extension": ".py",
   "mimetype": "text/x-python",
   "name": "python",
   "nbconvert_exporter": "python",
   "pygments_lexer": "ipython2",
   "version": "2.7.6"
  }
 },
 "nbformat": 4,
 "nbformat_minor": 5
}
