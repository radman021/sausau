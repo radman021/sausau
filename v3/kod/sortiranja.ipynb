{
 "cells": [
  {
   "metadata": {},
   "cell_type": "markdown",
   "source": "# Sortiranja",
   "id": "fb45e1b99a8a0c11"
  },
  {
   "metadata": {},
   "cell_type": "markdown",
   "source": "## Bubble Sort",
   "id": "d2179f684fdf98e3"
  },
  {
   "cell_type": "code",
   "id": "initial_id",
   "metadata": {
    "collapsed": true,
    "ExecuteTime": {
     "end_time": "2025-07-03T15:47:47.330745Z",
     "start_time": "2025-07-03T15:47:47.327411Z"
    }
   },
   "source": [
    "def bubbleSort(niz):\n",
    "    for i in range(len(niz)):\n",
    "        for j in range(0, len(niz) - i - 1):\n",
    "            if niz[j] > niz[j + 1]:\n",
    "                # Zamena mesta ako su u pogrešnom redosledu\n",
    "                niz[j], niz[j + 1] = niz[j + 1], niz[j]"
   ],
   "outputs": [],
   "execution_count": 8
  },
  {
   "metadata": {
    "ExecuteTime": {
     "end_time": "2025-07-03T15:47:47.648150Z",
     "start_time": "2025-07-03T15:47:47.645396Z"
    }
   },
   "cell_type": "code",
   "source": "test_niz = [8, 5, 3, 1, 4, 7, 9]",
   "id": "ab2293a38e28d74c",
   "outputs": [],
   "execution_count": 9
  },
  {
   "metadata": {
    "ExecuteTime": {
     "end_time": "2025-07-03T15:47:47.927242Z",
     "start_time": "2025-07-03T15:47:47.925029Z"
    }
   },
   "cell_type": "code",
   "source": [
    "print(\"Pre sortiranja:\", test_niz)\n",
    "bubbleSort(test_niz)\n",
    "print(\"Nakon standardne verzije:\", test_niz)"
   ],
   "id": "7ee3fbef76fd7d2c",
   "outputs": [
    {
     "name": "stdout",
     "output_type": "stream",
     "text": [
      "Pre sortiranja: [8, 5, 3, 1, 4, 7, 9]\n",
      "Nakon standardne verzije: [1, 3, 4, 5, 7, 8, 9]\n"
     ]
    }
   ],
   "execution_count": 10
  },
  {
   "metadata": {},
   "cell_type": "markdown",
   "source": "## Bubble Sort Optimizovana verzija",
   "id": "3d2b64de32652152"
  },
  {
   "metadata": {
    "ExecuteTime": {
     "end_time": "2025-07-03T15:48:37.782189Z",
     "start_time": "2025-07-03T15:48:37.779337Z"
    }
   },
   "cell_type": "code",
   "source": [
    "def bubbleSortOptimized(niz):\n",
    "    for i in range(len(niz)):\n",
    "        izvrsenaIzmena = False\n",
    "        for j in range(0, len(niz) - i - 1):\n",
    "            if niz[j] > niz[j + 1]:\n",
    "                niz[j], niz[j + 1] = niz[j + 1], niz[j]\n",
    "                izvrsenaIzmena = True\n",
    "        if not izvrsenaIzmena:\n",
    "            # Ako nije bilo nijedne zamene → niz je već sortiran\n",
    "            break"
   ],
   "id": "a34a06889e2b918b",
   "outputs": [],
   "execution_count": 11
  },
  {
   "metadata": {
    "ExecuteTime": {
     "end_time": "2025-07-03T15:48:52.852943Z",
     "start_time": "2025-07-03T15:48:52.850246Z"
    }
   },
   "cell_type": "code",
   "source": [
    "test_niz = [8, 5, 3, 1, 4, 7, 9]\n",
    "bubbleSortOptimized(test_niz)\n",
    "print(\"Nakon optimizovane verzije:\", test_niz)"
   ],
   "id": "4fcabdc0f0cd51f6",
   "outputs": [
    {
     "name": "stdout",
     "output_type": "stream",
     "text": [
      "Nakon optimizovane verzije: [1, 3, 4, 5, 7, 8, 9]\n"
     ]
    }
   ],
   "execution_count": 12
  },
  {
   "metadata": {},
   "cell_type": "markdown",
   "source": "## Selection Sort",
   "id": "965926ddfc59d2d9"
  },
  {
   "metadata": {
    "ExecuteTime": {
     "end_time": "2025-07-03T15:51:34.682341Z",
     "start_time": "2025-07-03T15:51:34.680095Z"
    }
   },
   "cell_type": "code",
   "source": [
    "def selectionSort(niz):\n",
    "    for index in range(len(niz)):\n",
    "        min_index = index\n",
    "        # Pronalazak najmanjeg u nesortiranom delu\n",
    "        for j in range(index + 1, len(niz)):\n",
    "            if niz[j] < niz[min_index]:\n",
    "                min_index = j\n",
    "        # Zamena sa prvim nesortiranim elementom\n",
    "        niz[index], niz[min_index] = niz[min_index], niz[index]"
   ],
   "id": "731a0f117703d5cd",
   "outputs": [],
   "execution_count": 23
  },
  {
   "metadata": {
    "ExecuteTime": {
     "end_time": "2025-07-03T15:51:35.290448Z",
     "start_time": "2025-07-03T15:51:35.288567Z"
    }
   },
   "cell_type": "code",
   "source": [
    "test_niz = [6, 8, 3, 5, 9, 10, 7, 2, 4, 1]\n",
    "\n",
    "print(\"Pre sortiranja:\", test_niz)\n",
    "selectionSort(test_niz)\n",
    "print(\"Nakon sortiranja:\", test_niz)"
   ],
   "id": "9ce8c97b7699fbf7",
   "outputs": [
    {
     "name": "stdout",
     "output_type": "stream",
     "text": [
      "Pre sortiranja: [6, 8, 3, 5, 9, 10, 7, 2, 4, 1]\n",
      "Nakon sortiranja: [1, 2, 3, 4, 5, 6, 7, 8, 9, 10]\n"
     ]
    }
   ],
   "execution_count": 24
  },
  {
   "metadata": {},
   "cell_type": "markdown",
   "source": "## Insertion Sort",
   "id": "81fe6c10b310e897"
  },
  {
   "metadata": {
    "ExecuteTime": {
     "end_time": "2025-07-03T15:51:24.559708Z",
     "start_time": "2025-07-03T15:51:24.556416Z"
    }
   },
   "cell_type": "code",
   "source": [
    "def insertionSort(niz):\n",
    "    for i in range(1, len(niz)):\n",
    "        trenutni = niz[i]\n",
    "        j = i - 1\n",
    "        # Pomeranje većih elemenata udesno\n",
    "        while j >= 0 and niz[j] > trenutni:\n",
    "            niz[j + 1] = niz[j]\n",
    "            j -= 1\n",
    "        # Ubacivanje trenutnog elementa na pravo mesto\n",
    "        niz[j + 1] = trenutni"
   ],
   "id": "9a23499291b8aef4",
   "outputs": [],
   "execution_count": 19
  },
  {
   "metadata": {
    "ExecuteTime": {
     "end_time": "2025-07-03T15:51:25.929237Z",
     "start_time": "2025-07-03T15:51:25.925863Z"
    }
   },
   "cell_type": "code",
   "source": [
    "test_niz = [6, 5, 3, 1, 8, 7, 2, 4]\n",
    "\n",
    "print(\"Pre sortiranja:\", test_niz)\n",
    "insertionSort(test_niz)\n",
    "print(\"Nakon sortiranja:\", test_niz)"
   ],
   "id": "a94b375f131dc6dd",
   "outputs": [
    {
     "name": "stdout",
     "output_type": "stream",
     "text": [
      "Pre sortiranja: [6, 5, 3, 1, 8, 7, 2, 4]\n",
      "Nakon sortiranja: [1, 2, 3, 4, 5, 6, 7, 8]\n"
     ]
    }
   ],
   "execution_count": 20
  },
  {
   "metadata": {},
   "cell_type": "markdown",
   "source": "## Merge Sort",
   "id": "2af6f5fcea6a1315"
  },
  {
   "metadata": {
    "ExecuteTime": {
     "end_time": "2025-07-03T15:52:14.983331Z",
     "start_time": "2025-07-03T15:52:14.981047Z"
    }
   },
   "cell_type": "code",
   "source": [
    "def mergeSort(niz):\n",
    "    if len(niz) > 1:\n",
    "        # 1. Podela\n",
    "        sredina = len(niz) // 2\n",
    "        L = niz[:sredina]\n",
    "        R = niz[sredina:]\n",
    "\n",
    "        # 2. Rekurzija\n",
    "        mergeSort(L)\n",
    "        mergeSort(R)\n",
    "\n",
    "        # 3. Spajanje\n",
    "        i = j = k = 0\n",
    "\n",
    "        # Upoređivanje elemenata iz L i R i ubacivanje manjeg\n",
    "        while i < len(L) and j < len(R):\n",
    "            if L[i] < R[j]:\n",
    "                niz[k] = L[i]\n",
    "                i += 1\n",
    "            else:\n",
    "                niz[k] = R[j]\n",
    "                j += 1\n",
    "            k += 1\n",
    "\n",
    "        # 4. Dodavanje preostalih elemenata\n",
    "        while i < len(L):\n",
    "            niz[k] = L[i]\n",
    "            i += 1\n",
    "            k += 1\n",
    "\n",
    "        while j < len(R):\n",
    "            niz[k] = R[j]\n",
    "            j += 1\n",
    "            k += 1"
   ],
   "id": "eb7e07edb405b4f4",
   "outputs": [],
   "execution_count": 29
  },
  {
   "metadata": {
    "ExecuteTime": {
     "end_time": "2025-07-03T15:52:15.443709Z",
     "start_time": "2025-07-03T15:52:15.441273Z"
    }
   },
   "cell_type": "code",
   "source": [
    "test_niz = [6, 8, 3, 5, 9, 10, 7, 2, 4, 1]\n",
    "\n",
    "print(\"Pre sortiranja:\", test_niz)\n",
    "mergeSort(test_niz)\n",
    "print(\"Nakon sortiranja:\", test_niz)"
   ],
   "id": "7b2a3833dd81de49",
   "outputs": [
    {
     "name": "stdout",
     "output_type": "stream",
     "text": [
      "Pre sortiranja: [6, 8, 3, 5, 9, 10, 7, 2, 4, 1]\n",
      "Nakon sortiranja: [1, 2, 3, 4, 5, 6, 7, 8, 9, 10]\n"
     ]
    }
   ],
   "execution_count": 30
  },
  {
   "metadata": {},
   "cell_type": "markdown",
   "source": "## Quick Sort",
   "id": "a4f2d0d9a39b3b17"
  },
  {
   "metadata": {
    "ExecuteTime": {
     "end_time": "2025-07-03T15:53:55.692615Z",
     "start_time": "2025-07-03T15:53:55.689958Z"
    }
   },
   "cell_type": "code",
   "source": [
    "def partition(niz, donjaGranica, gornjaGranica):\n",
    "    pivot = niz[gornjaGranica]  # pivot je poslednji element\n",
    "    i = donjaGranica - 1        # indeks poslednjeg manjeg od pivota\n",
    "\n",
    "    for j in range(donjaGranica, gornjaGranica):\n",
    "        if niz[j] <= pivot:\n",
    "            i += 1\n",
    "            niz[i], niz[j] = niz[j], niz[i]  # zamena ako je niz[j] manji od pivota\n",
    "\n",
    "    # Pivot ide na svoje mesto (iza poslednjeg manjeg)\n",
    "    niz[i + 1], niz[gornjaGranica] = niz[gornjaGranica], niz[i + 1]\n",
    "    return i + 1  # pozicija pivota"
   ],
   "id": "b4c16e8e97ef376",
   "outputs": [],
   "execution_count": 31
  },
  {
   "metadata": {
    "ExecuteTime": {
     "end_time": "2025-07-03T15:54:04.212189Z",
     "start_time": "2025-07-03T15:54:04.208445Z"
    }
   },
   "cell_type": "code",
   "source": [
    "def quickSort(niz, donjaGranica, gornjaGranica):\n",
    "    if donjaGranica < gornjaGranica:\n",
    "        pi = partition(niz, donjaGranica, gornjaGranica)  # pozicija pivota\n",
    "        # Sortiraj levo i desno od pivota\n",
    "        quickSort(niz, donjaGranica, pi - 1)\n",
    "        quickSort(niz, pi + 1, gornjaGranica)"
   ],
   "id": "9c7060e661a55d0e",
   "outputs": [],
   "execution_count": 33
  },
  {
   "metadata": {
    "ExecuteTime": {
     "end_time": "2025-07-03T15:54:10.543679Z",
     "start_time": "2025-07-03T15:54:10.540943Z"
    }
   },
   "cell_type": "code",
   "source": [
    "test_niz = [8, 4, 7, 3, 9, 2, 6, 5, 1]\n",
    "\n",
    "print(\"Pre sortiranja:\", test_niz)\n",
    "quickSort(test_niz, 0, len(test_niz) - 1)\n",
    "print(\"Nakon sortiranja:\", test_niz)"
   ],
   "id": "b06099b67f148726",
   "outputs": [
    {
     "name": "stdout",
     "output_type": "stream",
     "text": [
      "Pre sortiranja: [8, 4, 7, 3, 9, 2, 6, 5, 1]\n",
      "Nakon sortiranja: [1, 2, 3, 4, 5, 6, 7, 8, 9]\n"
     ]
    }
   ],
   "execution_count": 34
  }
 ],
 "metadata": {
  "kernelspec": {
   "display_name": "Python 3",
   "language": "python",
   "name": "python3"
  },
  "language_info": {
   "codemirror_mode": {
    "name": "ipython",
    "version": 2
   },
   "file_extension": ".py",
   "mimetype": "text/x-python",
   "name": "python",
   "nbconvert_exporter": "python",
   "pygments_lexer": "ipython2",
   "version": "2.7.6"
  }
 },
 "nbformat": 4,
 "nbformat_minor": 5
}
