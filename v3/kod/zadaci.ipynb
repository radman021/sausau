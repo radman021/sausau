{
 "cells": [
  {
   "metadata": {},
   "cell_type": "markdown",
   "source": "# Zadaci za vezbu",
   "id": "5d6f2a1380a9ef05"
  },
  {
   "metadata": {},
   "cell_type": "markdown",
   "source": "## Zadatak 1. - Da li niz sadrži duplikat? (LeetCode ID: 217)",
   "id": "ac49528c5c5548d1"
  },
  {
   "cell_type": "code",
   "id": "initial_id",
   "metadata": {
    "collapsed": true,
    "ExecuteTime": {
     "end_time": "2025-07-03T16:01:00.642960Z",
     "start_time": "2025-07-03T16:01:00.638322Z"
    }
   },
   "source": [
    "def sadrziDuplikat1(nums):\n",
    "    # Koristimo set da pratimo već viđene brojeve\n",
    "    vidjeni = set()\n",
    "    for broj in nums:\n",
    "        if broj in vidjeni:\n",
    "            return True\n",
    "        vidjeni.add(broj)\n",
    "    return False"
   ],
   "outputs": [],
   "execution_count": 3
  },
  {
   "metadata": {
    "ExecuteTime": {
     "end_time": "2025-07-03T16:01:00.804230Z",
     "start_time": "2025-07-03T16:01:00.801138Z"
    }
   },
   "cell_type": "code",
   "source": [
    "def sadrziDuplikat2(nums):\n",
    "    return len(nums) != len(set(nums))"
   ],
   "id": "f011280e3c06e7c7",
   "outputs": [],
   "execution_count": 4
  },
  {
   "metadata": {
    "ExecuteTime": {
     "end_time": "2025-07-03T16:01:01.169747Z",
     "start_time": "2025-07-03T16:01:01.166677Z"
    }
   },
   "cell_type": "code",
   "source": [
    "# Primer 1\n",
    "print(sadrziDuplikat1([1, 2, 3, 1]))\n",
    "\n",
    "# Primer 2\n",
    "print(sadrziDuplikat1([1, 2, 3, 4]))\n",
    "\n",
    "# Primer 3\n",
    "print(sadrziDuplikat1([1, 1, 1, 3, 3, 4, 3, 2, 4, 2]))"
   ],
   "id": "86181d0e9c93d495",
   "outputs": [
    {
     "name": "stdout",
     "output_type": "stream",
     "text": [
      "True\n",
      "False\n",
      "True\n"
     ]
    }
   ],
   "execution_count": 5
  },
  {
   "metadata": {},
   "cell_type": "markdown",
   "source": "## Zadatak 2. - Da li je reč anagram? (LeetCode ID: 242)",
   "id": "b88676d18e186a6e"
  },
  {
   "metadata": {
    "ExecuteTime": {
     "end_time": "2025-07-03T16:05:00.809851Z",
     "start_time": "2025-07-03T16:05:00.805934Z"
    }
   },
   "cell_type": "code",
   "source": [
    "def daLiJeAnagram(s, t):\n",
    "    # Anagram ima ista slova u istom broju — možemo uporediti sortirane verzije\n",
    "    return sorted(s) == sorted(t)"
   ],
   "id": "5705b049c3124e0d",
   "outputs": [],
   "execution_count": 7
  },
  {
   "metadata": {
    "ExecuteTime": {
     "end_time": "2025-07-03T16:05:00.972724Z",
     "start_time": "2025-07-03T16:05:00.969541Z"
    }
   },
   "cell_type": "code",
   "source": [
    "# Primer 1\n",
    "print(daLiJeAnagram(\"anagram\", \"nagaram\"))\n",
    "\n",
    "# Primer 2\n",
    "print(daLiJeAnagram(\"rat\", \"car\"))"
   ],
   "id": "ebb3c7921786c2a5",
   "outputs": [
    {
     "name": "stdout",
     "output_type": "stream",
     "text": [
      "True\n",
      "False\n"
     ]
    }
   ],
   "execution_count": 8
  },
  {
   "metadata": {},
   "cell_type": "markdown",
   "source": "## Zadatak 3. - Sortiraj parne i neparne indekse (LeetCode ID: 2164)",
   "id": "3ac4a58b59640db7"
  },
  {
   "metadata": {
    "ExecuteTime": {
     "end_time": "2025-07-03T16:09:14.354768Z",
     "start_time": "2025-07-03T16:09:14.351073Z"
    }
   },
   "cell_type": "code",
   "source": [
    "def sortirajParneNeparneIndekse(nums):\n",
    "    parni = sorted([nums[i] for i in range(0, len(nums), 2)])\n",
    "    neparni = sorted([nums[i] for i in range(1, len(nums), 2)], reverse=True)\n",
    "\n",
    "    rezultat = [0] * len(nums)\n",
    "    rezultat[::2] = parni       # parni indeksi\n",
    "    rezultat[1::2] = neparni    # neparni indeksi\n",
    "\n",
    "    return rezultat"
   ],
   "id": "c708b62a1471a4be",
   "outputs": [],
   "execution_count": 9
  },
  {
   "metadata": {
    "ExecuteTime": {
     "end_time": "2025-07-03T16:09:17.686827Z",
     "start_time": "2025-07-03T16:09:17.682800Z"
    }
   },
   "cell_type": "code",
   "source": [
    "# Primer 1\n",
    "print(sortirajParneNeparneIndekse([4, 1, 2, 3]))\n",
    "\n",
    "# Primer 2\n",
    "print(sortirajParneNeparneIndekse([2, 1]))\n",
    "\n",
    "# Dodatni primer\n",
    "print(sortirajParneNeparneIndekse([9, 7, 8, 6, 5, 4]))"
   ],
   "id": "cff705502117876a",
   "outputs": [
    {
     "name": "stdout",
     "output_type": "stream",
     "text": [
      "[2, 3, 4, 1]\n",
      "[2, 1]\n",
      "[5, 7, 8, 6, 9, 4]\n"
     ]
    }
   ],
   "execution_count": 10
  },
  {
   "metadata": {},
   "cell_type": "markdown",
   "source": "## Zadatak 4. - Sortiraj niz po parnosti (LeetCode ID: 905)",
   "id": "8a7780cce475021a"
  },
  {
   "metadata": {
    "ExecuteTime": {
     "end_time": "2025-07-03T16:10:39.303817Z",
     "start_time": "2025-07-03T16:10:39.300895Z"
    }
   },
   "cell_type": "code",
   "source": [
    "def sortirajPoParnosti(nums):\n",
    "    parni = [x for x in nums if x % 2 == 0]\n",
    "    neparni = [x for x in nums if x % 2 == 1]\n",
    "    return parni + neparni"
   ],
   "id": "b6b22fd56366ca88",
   "outputs": [],
   "execution_count": 11
  },
  {
   "metadata": {
    "ExecuteTime": {
     "end_time": "2025-07-03T16:10:49.849187Z",
     "start_time": "2025-07-03T16:10:49.845735Z"
    }
   },
   "cell_type": "code",
   "source": [
    "# Primer 1\n",
    "print(sortirajPoParnosti([3, 1, 2, 4]))\n",
    "\n",
    "# Primer 2\n",
    "print(sortirajPoParnosti([0]))\n",
    "\n",
    "print(sortirajPoParnosti([7, 2, 6, 3, 9, 4]))"
   ],
   "id": "3dd0d1a666d10e8d",
   "outputs": [
    {
     "name": "stdout",
     "output_type": "stream",
     "text": [
      "[2, 4, 3, 1]\n",
      "[0]\n",
      "[2, 6, 4, 7, 3, 9]\n"
     ]
    }
   ],
   "execution_count": 12
  },
  {
   "metadata": {},
   "cell_type": "markdown",
   "source": "## Zadatak 5. - Relativni plasmani takičara (LeetCode ID: 506)",
   "id": "2bc36525d0df5a01"
  },
  {
   "metadata": {
    "ExecuteTime": {
     "end_time": "2025-07-03T16:14:18.469893Z",
     "start_time": "2025-07-03T16:14:18.466221Z"
    }
   },
   "cell_type": "code",
   "source": [
    "def relativniPlasmani(score):\n",
    "    n = len(score)\n",
    "    # Sačuvamo i indeks kako bismo znali gde da vratimo rezultat\n",
    "    sortirani = sorted(enumerate(score), key=lambda x: -x[1])\n",
    "    rezultat = [''] * n\n",
    "\n",
    "    for i, (indeks, _) in enumerate(sortirani):\n",
    "        if i == 0:\n",
    "            rezultat[indeks] = \"Gold Medal\"\n",
    "        elif i == 1:\n",
    "            rezultat[indeks] = \"Silver Medal\"\n",
    "        elif i == 2:\n",
    "            rezultat[indeks] = \"Bronze Medal\"\n",
    "        else:\n",
    "            rezultat[indeks] = str(i + 1)\n",
    "\n",
    "    return rezultat"
   ],
   "id": "f1efc416870a1e16",
   "outputs": [],
   "execution_count": 13
  },
  {
   "metadata": {
    "ExecuteTime": {
     "end_time": "2025-07-03T16:14:21.763082Z",
     "start_time": "2025-07-03T16:14:21.759799Z"
    }
   },
   "cell_type": "code",
   "source": [
    "# Primer 1\n",
    "print(relativniPlasmani([5, 4, 3, 2, 1]))\n",
    "\n",
    "# Primer 2\n",
    "print(relativniPlasmani([10, 3, 8, 9, 4]))\n",
    "\n",
    "# Dodatni primer\n",
    "print(relativniPlasmani([99]))"
   ],
   "id": "2da250f2d2fedd1f",
   "outputs": [
    {
     "name": "stdout",
     "output_type": "stream",
     "text": [
      "['Gold Medal', 'Silver Medal', 'Bronze Medal', '4', '5']\n",
      "['Gold Medal', '5', 'Bronze Medal', 'Silver Medal', '4']\n",
      "['Gold Medal']\n"
     ]
    }
   ],
   "execution_count": 14
  }
 ],
 "metadata": {
  "kernelspec": {
   "display_name": "Python 3",
   "language": "python",
   "name": "python3"
  },
  "language_info": {
   "codemirror_mode": {
    "name": "ipython",
    "version": 2
   },
   "file_extension": ".py",
   "mimetype": "text/x-python",
   "name": "python",
   "nbconvert_exporter": "python",
   "pygments_lexer": "ipython2",
   "version": "2.7.6"
  }
 },
 "nbformat": 4,
 "nbformat_minor": 5
}
